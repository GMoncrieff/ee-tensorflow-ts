{
  "nbformat": 4,
  "nbformat_minor": 0,
  "metadata": {
    "colab": {
      "name": "EE_TF2-0_CNN.ipynb",
      "provenance": [],
      "collapsed_sections": []
    },
    "kernelspec": {
      "name": "python3",
      "display_name": "Python 3"
    },
    "accelerator": "GPU"
  },
  "cells": [
    {
      "cell_type": "markdown",
      "metadata": {
        "colab_type": "text",
        "id": "d6dQegu6czA5"
      },
      "source": [
        "## Authenticate to Colab and Cloud\n"
      ]
    },
    {
      "cell_type": "code",
      "metadata": {
        "id": "5qMKG1hEXuML",
        "colab_type": "code",
        "cellView": "code",
        "colab": {}
      },
      "source": [
        "from google.colab import auth\n",
        "\n",
        "auth.authenticate_user()"
      ],
      "execution_count": 0,
      "outputs": []
    },
    {
      "cell_type": "markdown",
      "metadata": {
        "id": "Ejxa1MQjEGv9",
        "colab_type": "text"
      },
      "source": [
        "## Authenticate to Earth Engine and initialize"
      ]
    },
    {
      "cell_type": "code",
      "metadata": {
        "id": "HzwiVqbcmJIX",
        "colab_type": "code",
        "cellView": "code",
        "colab": {}
      },
      "source": [
        "# Import the Earth Engine API and initialize it.\n",
        "import ee\n",
        "\n",
        "# Trigger the authentication flow.\n",
        "ee.Authenticate()\n",
        "\n",
        "# Initialize the library.\n",
        "ee.Initialize()"
      ],
      "execution_count": 0,
      "outputs": []
    },
    {
      "cell_type": "markdown",
      "metadata": {
        "id": "eJPDyllIMRAa",
        "colab_type": "text"
      },
      "source": [
        "## Test the Earth Engine installation\n",
        "\n"
      ]
    },
    {
      "cell_type": "code",
      "metadata": {
        "id": "uuAk34-HMXnG",
        "colab_type": "code",
        "colab": {}
      },
      "source": [
        "# Test the earthengine command by getting help on upload.\n",
        "!earthengine upload image -h"
      ],
      "execution_count": 0,
      "outputs": []
    },
    {
      "cell_type": "markdown",
      "metadata": {
        "id": "iJ70EsoWND_0",
        "colab_type": "text"
      },
      "source": [
        "## Test the TensorFlow installation\n",
        "\n",
        "upgraded to TF2.0"
      ]
    },
    {
      "cell_type": "code",
      "metadata": {
        "id": "i1PrYRLaVw_g",
        "colab_type": "code",
        "cellView": "code",
        "colab": {}
      },
      "source": [
        "from __future__ import absolute_import, division, print_function, unicode_literals\n",
        "try:\n",
        "  # %tensorflow_version only exists in Colab.\n",
        "  %tensorflow_version 2.x\n",
        "except Exception:\n",
        "  pass\n",
        "import tensorflow as tf\n",
        "print(tf.__version__)"
      ],
      "execution_count": 0,
      "outputs": []
    },
    {
      "cell_type": "markdown",
      "metadata": {
        "id": "m0cy_4j7XG_i",
        "colab_type": "text"
      },
      "source": [
        "# Import other libraries"
      ]
    },
    {
      "cell_type": "code",
      "metadata": {
        "id": "NRmQEFsuXDec",
        "colab_type": "code",
        "colab": {}
      },
      "source": [
        "import numpy as np\n",
        "import folium\n",
        "print(folium.__version__)"
      ],
      "execution_count": 0,
      "outputs": []
    },
    {
      "cell_type": "markdown",
      "metadata": {
        "id": "0EJfjgelSOpN",
        "colab_type": "text"
      },
      "source": [
        "## Prepare Landsat 8 imagery\n",
        "\n",
        "First, make a mosaic of Landsat 8 surface reflectance imagery. We will analyze the full time series for 2017"
      ]
    },
    {
      "cell_type": "code",
      "metadata": {
        "id": "JchSUIe8HUIU",
        "colab_type": "code",
        "colab": {}
      },
      "source": [
        "#date sequence\n",
        "Date_Start = ee.Date('2017-01-01')\n",
        "Date_End = ee.Date('2017-12-31')\n",
        "dstep = 16\n",
        "\n",
        "n_day = Date_End.difference(Date_Start,'day').round()\n",
        "dates = ee.List.sequence(0,n_day,dstep)\n",
        "def make_datelist(n):\n",
        "  return Date_Start.advance(n,'day')\n",
        "\n",
        "dates = dates.map(make_datelist)"
      ],
      "execution_count": 0,
      "outputs": []
    },
    {
      "cell_type": "code",
      "metadata": {
        "id": "DJYucYe3SPPr",
        "colab_type": "code",
        "colab": {}
      },
      "source": [
        "# Change the following two lines to use your own training data.\n",
        "labels = ee.FeatureCollection('GOOGLE/EE/DEMOS/demo_landcover_labels')\n",
        "label = 'landcover'\n",
        "\n",
        "# Use these bands for prediction.\n",
        "bands = ['B2', 'B3', 'B4', 'B5', 'B6', 'B7','nd']\n",
        "# Use Landsat 8 surface reflectance data.\n",
        "l8sr = ee.ImageCollection('LANDSAT/LC08/C01/T1_SR')\n"
      ],
      "execution_count": 0,
      "outputs": []
    },
    {
      "cell_type": "code",
      "metadata": {
        "id": "4ehqGpJjUDHR",
        "colab_type": "code",
        "colab": {}
      },
      "source": [
        "def addNDVI(image):\n",
        "  ndvi = image.normalizedDifference(['B5', 'B4']).multiply(10000)\n",
        "  return image.addBands(ndvi)\n",
        "\n",
        "#to fill nulls with previous non null record\n",
        "def gap_fill(image, listb):\n",
        "  current = image.unmask(-999)\n",
        "  previous = ee.Image(ee.List(listb).get(-1))\n",
        "  new = current.where(current.eq(-999), previous).set('system:time_start', image.get('system:time_start'))\n",
        "  return ee.List(listb).add(new)\n",
        "\n",
        "# Cloud masking function.\n",
        "def maskL8sr(image):\n",
        "  cloudShadowBitMask = ee.Number(2).pow(3).int()\n",
        "  cloudsBitMask = ee.Number(2).pow(5).int()\n",
        "  qa = image.select('pixel_qa')\n",
        "  mask = qa.bitwiseAnd(cloudShadowBitMask).eq(0).And(\n",
        "    qa.bitwiseAnd(cloudsBitMask).eq(0))\n",
        "  return image.updateMask(mask).select(bands).divide(10000)\n",
        "\n",
        "def getl8 (dlist):\n",
        "  #extract dates\n",
        "  dat = ee.Date(dlist)\n",
        "  dat2 = dat.advance(dstep,'day')\n",
        "  dat_str = dat2.format()\n",
        "\n",
        "  #summarize l8 between dates\n",
        "  imageCol_gaps = ee.ImageCollection('LANDSAT/LC08/C01/T1_SR')\\\n",
        "  .filterBounds(labels)\\\n",
        "  .filterDate(dat, dat.advance(dstep,'day'))\\\n",
        "  .map(addNDVI)\\\n",
        "  .map(maskL8sr)\\\n",
        "  .median()\\\n",
        "  .set('system:time_start', dat_str)\n",
        "       \n",
        "  return imageCol_gaps\n",
        "\n",
        "ilist = dates.map(getl8)\n",
        "imageCol_gaps = ee.ImageCollection(ilist)\n",
        "\n"
      ],
      "execution_count": 0,
      "outputs": []
    },
    {
      "cell_type": "code",
      "metadata": {
        "id": "8gy54U-5vxNi",
        "colab_type": "code",
        "colab": {}
      },
      "source": [
        "#fill non null value in series\n",
        "first_im = imageCol_gaps\\\n",
        "  .reduce(ee.Reducer.firstNonNull())\\\n",
        "  .rename(bands)\\\n",
        "  .set({'system:index': 'first'})\n",
        "first = ee.List([first_im])\n",
        "\n",
        "#fill gaps then drop first image\n",
        "imageCol = ee.ImageCollection(ee.List(imageCol_gaps.iterate(gap_fill, first)))\\\n",
        "  .filter(ee.Filter.neq('system:index', 'first'))\n",
        "\n",
        "#flatten each band\n",
        "imageCol_all = imageCol\\\n",
        "  .toArrayPerBand()\n",
        "\n",
        "tsLength = imageCol.size().getInfo()\n",
        "image = imageCol_all"
      ],
      "execution_count": 0,
      "outputs": []
    },
    {
      "cell_type": "markdown",
      "metadata": {
        "id": "UEeyPf3zSPct",
        "colab_type": "text"
      },
      "source": [
        "## sample pixel values at labeled points. "
      ]
    },
    {
      "cell_type": "code",
      "metadata": {
        "id": "iOedOKyRExHE",
        "colab_type": "code",
        "outputId": "70c4c301-5b9b-4067-9d5c-b9d2017f8dd8",
        "colab": {
          "base_uri": "https://localhost:8080/",
          "height": 1000
        }
      },
      "source": [
        "# Sample the image at the points and add a random column.\n",
        "sample = image.sampleRegions(\n",
        "  collection=labels, properties=[label], scale=30).randomColumn()\n",
        "\n",
        "# Partition the sample approximately 70-30.\n",
        "training = sample.filter(ee.Filter.lt('random', 0.7))\n",
        "testing = sample.filter(ee.Filter.gte('random', 0.7))\n",
        "\n",
        "from pprint import pprint\n",
        "\n",
        "# Print the first couple points to verify.\n",
        "pprint({'training': training.first().getInfo()})\n",
        "pprint({'testing': testing.first().getInfo()})"
      ],
      "execution_count": 635,
      "outputs": [
        {
          "output_type": "stream",
          "text": [
            "{'training': {'geometry': None,\n",
            "              'id': '00000000000000000003_0',\n",
            "              'properties': {'B2': [0.06350000202655792,\n",
            "                                    0.06350000202655792,\n",
            "                                    0.06350000202655792,\n",
            "                                    0.06350000202655792,\n",
            "                                    0.06350000202655792,\n",
            "                                    0.06350000202655792,\n",
            "                                    0.06350000202655792,\n",
            "                                    0.09510000050067902,\n",
            "                                    0.10300000011920929,\n",
            "                                    0.10300000011920929,\n",
            "                                    0.11100000143051147,\n",
            "                                    0.11100000143051147,\n",
            "                                    0.08760000020265579,\n",
            "                                    0.08269999921321869,\n",
            "                                    0.08269999921321869,\n",
            "                                    0.08749999850988388,\n",
            "                                    0.08749999850988388,\n",
            "                                    0.07880000025033951,\n",
            "                                    0.07880000025033951,\n",
            "                                    0.07479999959468842,\n",
            "                                    0.07479999959468842,\n",
            "                                    0.06780000030994415,\n",
            "                                    0.06780000030994415],\n",
            "                             'B3': [0.08550000190734863,\n",
            "                                    0.08550000190734863,\n",
            "                                    0.08550000190734863,\n",
            "                                    0.08550000190734863,\n",
            "                                    0.08550000190734863,\n",
            "                                    0.08550000190734863,\n",
            "                                    0.08550000190734863,\n",
            "                                    0.11699999868869781,\n",
            "                                    0.13079999387264252,\n",
            "                                    0.13079999387264252,\n",
            "                                    0.13099999725818634,\n",
            "                                    0.13099999725818634,\n",
            "                                    0.09809999912977219,\n",
            "                                    0.10260000079870224,\n",
            "                                    0.10260000079870224,\n",
            "                                    0.10180000215768814,\n",
            "                                    0.10180000215768814,\n",
            "                                    0.08590000122785568,\n",
            "                                    0.08590000122785568,\n",
            "                                    0.09059999883174896,\n",
            "                                    0.09059999883174896,\n",
            "                                    0.07989999651908875,\n",
            "                                    0.07989999651908875],\n",
            "                             'B4': [0.08739999681711197,\n",
            "                                    0.08739999681711197,\n",
            "                                    0.08739999681711197,\n",
            "                                    0.08739999681711197,\n",
            "                                    0.08739999681711197,\n",
            "                                    0.08739999681711197,\n",
            "                                    0.08739999681711197,\n",
            "                                    0.12120000272989273,\n",
            "                                    0.1370999962091446,\n",
            "                                    0.1370999962091446,\n",
            "                                    0.1445000022649765,\n",
            "                                    0.1445000022649765,\n",
            "                                    0.10679999738931656,\n",
            "                                    0.11100000143051147,\n",
            "                                    0.11100000143051147,\n",
            "                                    0.10440000146627426,\n",
            "                                    0.10440000146627426,\n",
            "                                    0.09350000321865082,\n",
            "                                    0.09350000321865082,\n",
            "                                    0.09910000115633011,\n",
            "                                    0.09910000115633011,\n",
            "                                    0.07829999923706055,\n",
            "                                    0.07829999923706055],\n",
            "                             'B5': [0.10000000149011612,\n",
            "                                    0.10000000149011612,\n",
            "                                    0.10000000149011612,\n",
            "                                    0.10000000149011612,\n",
            "                                    0.10000000149011612,\n",
            "                                    0.10000000149011612,\n",
            "                                    0.10000000149011612,\n",
            "                                    0.14920000731945038,\n",
            "                                    0.16820000112056732,\n",
            "                                    0.16820000112056732,\n",
            "                                    0.1687999963760376,\n",
            "                                    0.1687999963760376,\n",
            "                                    0.12470000237226486,\n",
            "                                    0.13249999284744263,\n",
            "                                    0.13249999284744263,\n",
            "                                    0.12460000067949295,\n",
            "                                    0.12460000067949295,\n",
            "                                    0.11190000176429749,\n",
            "                                    0.11190000176429749,\n",
            "                                    0.11710000038146973,\n",
            "                                    0.11710000038146973,\n",
            "                                    0.08380000293254852,\n",
            "                                    0.08380000293254852],\n",
            "                             'B6': [0.12759999930858612,\n",
            "                                    0.12759999930858612,\n",
            "                                    0.12759999930858612,\n",
            "                                    0.12759999930858612,\n",
            "                                    0.12759999930858612,\n",
            "                                    0.12759999930858612,\n",
            "                                    0.12759999930858612,\n",
            "                                    0.1639000028371811,\n",
            "                                    0.1826000064611435,\n",
            "                                    0.1826000064611435,\n",
            "                                    0.17820000648498535,\n",
            "                                    0.17820000648498535,\n",
            "                                    0.12330000102519989,\n",
            "                                    0.13510000705718994,\n",
            "                                    0.13510000705718994,\n",
            "                                    0.11810000240802765,\n",
            "                                    0.11810000240802765,\n",
            "                                    0.11150000244379044,\n",
            "                                    0.11150000244379044,\n",
            "                                    0.11309999972581863,\n",
            "                                    0.11309999972581863,\n",
            "                                    0.10930000245571136,\n",
            "                                    0.10930000245571136],\n",
            "                             'B7': [0.10660000145435333,\n",
            "                                    0.10660000145435333,\n",
            "                                    0.10660000145435333,\n",
            "                                    0.10660000145435333,\n",
            "                                    0.10660000145435333,\n",
            "                                    0.10660000145435333,\n",
            "                                    0.10660000145435333,\n",
            "                                    0.14010000228881836,\n",
            "                                    0.16369999945163727,\n",
            "                                    0.16369999945163727,\n",
            "                                    0.15520000457763672,\n",
            "                                    0.15520000457763672,\n",
            "                                    0.1137000024318695,\n",
            "                                    0.12080000340938568,\n",
            "                                    0.12080000340938568,\n",
            "                                    0.10400000214576721,\n",
            "                                    0.10400000214576721,\n",
            "                                    0.09780000150203705,\n",
            "                                    0.09780000150203705,\n",
            "                                    0.10010000318288803,\n",
            "                                    0.10010000318288803,\n",
            "                                    0.09369999915361404,\n",
            "                                    0.09369999915361404],\n",
            "                             'landcover': 0,\n",
            "                             'nd': [0.06723585724830627,\n",
            "                                    0.06723585724830627,\n",
            "                                    0.06723585724830627,\n",
            "                                    0.06723585724830627,\n",
            "                                    0.06723585724830627,\n",
            "                                    0.06723585724830627,\n",
            "                                    0.06723585724830627,\n",
            "                                    0.10355029255151749,\n",
            "                                    0.10186701267957687,\n",
            "                                    0.10186701267957687,\n",
            "                                    0.07756144553422928,\n",
            "                                    0.07756144553422928,\n",
            "                                    0.07732181251049042,\n",
            "                                    0.08829569071531296,\n",
            "                                    0.08829569071531296,\n",
            "                                    0.0882096067070961,\n",
            "                                    0.0882096067070961,\n",
            "                                    0.08958130329847336,\n",
            "                                    0.08958130329847336,\n",
            "                                    0.08325624465942383,\n",
            "                                    0.08325624465942383,\n",
            "                                    0.033929672092199326,\n",
            "                                    0.033929672092199326],\n",
            "                             'random': 0.09497136868039457},\n",
            "              'type': 'Feature'}}\n",
            "{'testing': {'geometry': None,\n",
            "             'id': '00000000000000000005_0',\n",
            "             'properties': {'B2': [0.06849999725818634,\n",
            "                                   0.06849999725818634,\n",
            "                                   0.06849999725818634,\n",
            "                                   0.06849999725818634,\n",
            "                                   0.06849999725818634,\n",
            "                                   0.06849999725818634,\n",
            "                                   0.06849999725818634,\n",
            "                                   0.08529999852180481,\n",
            "                                   0.0940999984741211,\n",
            "                                   0.0940999984741211,\n",
            "                                   0.0835999995470047,\n",
            "                                   0.0835999995470047,\n",
            "                                   0.09510000050067902,\n",
            "                                   0.08990000188350677,\n",
            "                                   0.08990000188350677,\n",
            "                                   0.09989999979734421,\n",
            "                                   0.09989999979734421,\n",
            "                                   0.08079999685287476,\n",
            "                                   0.08079999685287476,\n",
            "                                   0.08619999885559082,\n",
            "                                   0.08619999885559082,\n",
            "                                   0.07930000126361847,\n",
            "                                   0.07930000126361847],\n",
            "                            'B3': [0.10209999978542328,\n",
            "                                   0.10209999978542328,\n",
            "                                   0.10209999978542328,\n",
            "                                   0.10209999978542328,\n",
            "                                   0.10209999978542328,\n",
            "                                   0.10209999978542328,\n",
            "                                   0.10209999978542328,\n",
            "                                   0.12620000541210175,\n",
            "                                   0.13930000364780426,\n",
            "                                   0.13930000364780426,\n",
            "                                   0.13809999823570251,\n",
            "                                   0.13809999823570251,\n",
            "                                   0.13369999825954437,\n",
            "                                   0.12250000238418579,\n",
            "                                   0.12250000238418579,\n",
            "                                   0.12759999930858612,\n",
            "                                   0.12759999930858612,\n",
            "                                   0.11680000275373459,\n",
            "                                   0.11680000275373459,\n",
            "                                   0.1137000024318695,\n",
            "                                   0.1137000024318695,\n",
            "                                   0.09239999949932098,\n",
            "                                   0.09239999949932098],\n",
            "                            'B4': [0.09359999746084213,\n",
            "                                   0.09359999746084213,\n",
            "                                   0.09359999746084213,\n",
            "                                   0.09359999746084213,\n",
            "                                   0.09359999746084213,\n",
            "                                   0.09359999746084213,\n",
            "                                   0.09359999746084213,\n",
            "                                   0.1363999992609024,\n",
            "                                   0.16339999437332153,\n",
            "                                   0.16339999437332153,\n",
            "                                   0.15929999947547913,\n",
            "                                   0.15929999947547913,\n",
            "                                   0.14890000224113464,\n",
            "                                   0.1468999981880188,\n",
            "                                   0.1468999981880188,\n",
            "                                   0.1395999938249588,\n",
            "                                   0.1395999938249588,\n",
            "                                   0.1396999955177307,\n",
            "                                   0.1396999955177307,\n",
            "                                   0.12929999828338623,\n",
            "                                   0.12929999828338623,\n",
            "                                   0.08760000020265579,\n",
            "                                   0.08760000020265579],\n",
            "                            'B5': [0.251800000667572,\n",
            "                                   0.251800000667572,\n",
            "                                   0.251800000667572,\n",
            "                                   0.251800000667572,\n",
            "                                   0.251800000667572,\n",
            "                                   0.251800000667572,\n",
            "                                   0.251800000667572,\n",
            "                                   0.26750001311302185,\n",
            "                                   0.25940001010894775,\n",
            "                                   0.25940001010894775,\n",
            "                                   0.2676999866962433,\n",
            "                                   0.2676999866962433,\n",
            "                                   0.27300000190734863,\n",
            "                                   0.2524999976158142,\n",
            "                                   0.2524999976158142,\n",
            "                                   0.2295999974012375,\n",
            "                                   0.2295999974012375,\n",
            "                                   0.21870000660419464,\n",
            "                                   0.21870000660419464,\n",
            "                                   0.20010000467300415,\n",
            "                                   0.20010000467300415,\n",
            "                                   0.20149999856948853,\n",
            "                                   0.20149999856948853],\n",
            "                            'B6': [0.1565999984741211,\n",
            "                                   0.1565999984741211,\n",
            "                                   0.1565999984741211,\n",
            "                                   0.1565999984741211,\n",
            "                                   0.1565999984741211,\n",
            "                                   0.1565999984741211,\n",
            "                                   0.1565999984741211,\n",
            "                                   0.2363000065088272,\n",
            "                                   0.2535000145435333,\n",
            "                                   0.2535000145435333,\n",
            "                                   0.24809999763965607,\n",
            "                                   0.24809999763965607,\n",
            "                                   0.2572999894618988,\n",
            "                                   0.2395000010728836,\n",
            "                                   0.2395000010728836,\n",
            "                                   0.24169999361038208,\n",
            "                                   0.24169999361038208,\n",
            "                                   0.22050000727176666,\n",
            "                                   0.22050000727176666,\n",
            "                                   0.20990000665187836,\n",
            "                                   0.20990000665187836,\n",
            "                                   0.19050000607967377,\n",
            "                                   0.19050000607967377],\n",
            "                            'B7': [0.10700000077486038,\n",
            "                                   0.10700000077486038,\n",
            "                                   0.10700000077486038,\n",
            "                                   0.10700000077486038,\n",
            "                                   0.10700000077486038,\n",
            "                                   0.10700000077486038,\n",
            "                                   0.10700000077486038,\n",
            "                                   0.17409999668598175,\n",
            "                                   0.18979999423027039,\n",
            "                                   0.18979999423027039,\n",
            "                                   0.1826000064611435,\n",
            "                                   0.1826000064611435,\n",
            "                                   0.179299995303154,\n",
            "                                   0.17299999296665192,\n",
            "                                   0.17299999296665192,\n",
            "                                   0.1704999953508377,\n",
            "                                   0.1704999953508377,\n",
            "                                   0.16590000689029694,\n",
            "                                   0.16590000689029694,\n",
            "                                   0.16179999709129333,\n",
            "                                   0.16179999709129333,\n",
            "                                   0.14030000567436218,\n",
            "                                   0.14030000567436218],\n",
            "                            'landcover': 0,\n",
            "                            'nd': [0.4580196738243103,\n",
            "                                   0.4580196738243103,\n",
            "                                   0.4580196738243103,\n",
            "                                   0.4580196738243103,\n",
            "                                   0.4580196738243103,\n",
            "                                   0.4580196738243103,\n",
            "                                   0.4580196738243103,\n",
            "                                   0.32458528876304626,\n",
            "                                   0.22705771028995514,\n",
            "                                   0.22705771028995514,\n",
            "                                   0.2538641691207886,\n",
            "                                   0.2538641691207886,\n",
            "                                   0.29414552450180054,\n",
            "                                   0.264396607875824,\n",
            "                                   0.264396607875824,\n",
            "                                   0.2437703162431717,\n",
            "                                   0.2437703162431717,\n",
            "                                   0.2204241007566452,\n",
            "                                   0.2204241007566452,\n",
            "                                   0.2149362415075302,\n",
            "                                   0.2149362415075302,\n",
            "                                   0.39398130774497986,\n",
            "                                   0.39398130774497986],\n",
            "                            'random': 0.7966362693105216},\n",
            "             'type': 'Feature'}}\n"
          ],
          "name": "stdout"
        }
      ]
    },
    {
      "cell_type": "markdown",
      "metadata": {
        "id": "uNc7a2nRR4MI",
        "colab_type": "text"
      },
      "source": [
        "## Export the training and testing data\n"
      ]
    },
    {
      "cell_type": "code",
      "metadata": {
        "id": "Pb-aPvQc0Xvp",
        "colab_type": "code",
        "outputId": "a4173bc1-3b71-439f-a09b-54a5a2def873",
        "colab": {
          "base_uri": "https://localhost:8080/",
          "height": 34
        }
      },
      "source": [
        "# REPLACE WITH YOUR BUCKET!\n",
        "outputBucket = 'ee-tf-example'\n",
        "\n",
        "# Make sure the bucket exists.\n",
        "print('Found Cloud Storage bucket.' if tf.io.gfile.exists('gs://' + outputBucket) \n",
        "    else 'Output Cloud Storage bucket does not exist.')"
      ],
      "execution_count": 636,
      "outputs": [
        {
          "output_type": "stream",
          "text": [
            "Found Cloud Storage bucket.\n"
          ],
          "name": "stdout"
        }
      ]
    },
    {
      "cell_type": "code",
      "metadata": {
        "id": "TfVNQzg8R6Wy",
        "colab_type": "code",
        "colab": {}
      },
      "source": [
        "# Names for output files.\n",
        "trainFilePrefix = 'Training_demo_cnn'\n",
        "testFilePrefix = 'Testing_demo_cnn'\n",
        "\n",
        "# This is list of all the properties we want to export.\n",
        "featureNames = list(bands)\n",
        "featureNames.append(label)\n"
      ],
      "execution_count": 0,
      "outputs": []
    },
    {
      "cell_type": "code",
      "metadata": {
        "id": "gmMX_N_8JROQ",
        "colab_type": "code",
        "colab": {}
      },
      "source": [
        "# Create the tasks.\n",
        "trainingTask = ee.batch.Export.table.toCloudStorage(\n",
        "  collection=training,\n",
        "  description='Training Export',\n",
        "  fileNamePrefix=trainFilePrefix,\n",
        "  bucket=outputBucket,\n",
        "  fileFormat='TFRecord',\n",
        "  selectors=featureNames)\n",
        "\n",
        "testingTask = ee.batch.Export.table.toCloudStorage(\n",
        "  collection=testing,\n",
        "  description='Testing Export',\n",
        "  fileNamePrefix=testFilePrefix,\n",
        "  bucket=outputBucket,\n",
        "  fileFormat='TFRecord',\n",
        "  selectors=featureNames)"
      ],
      "execution_count": 0,
      "outputs": []
    },
    {
      "cell_type": "code",
      "metadata": {
        "id": "QF4WGIekaS2s",
        "colab_type": "code",
        "colab": {}
      },
      "source": [
        "# Start the tasks.\n",
        "trainingTask.start()\n",
        "testingTask.start()"
      ],
      "execution_count": 0,
      "outputs": []
    },
    {
      "cell_type": "code",
      "metadata": {
        "id": "oEWvS5ekcEq0",
        "colab_type": "code",
        "outputId": "66b8b0f4-5957-4750-aead-290de59ebf01",
        "colab": {
          "base_uri": "https://localhost:8080/",
          "height": 88
        }
      },
      "source": [
        "# Print all tasks.\n",
        "print(ee.batch.Task.list())\n",
        "\n",
        "# Poll the training task until it's done.\n",
        "import time \n",
        "while trainingTask.active():\n",
        "  print('Polling for task (id: {}).'.format(trainingTask.id))\n",
        "  time.sleep(30)\n",
        "print('Done with training export.')"
      ],
      "execution_count": 620,
      "outputs": [
        {
          "output_type": "stream",
          "text": [
            "[<Task EXPORT_FEATURES: Testing Export (READY)>, <Task EXPORT_FEATURES: Training Export (RUNNING)>, <Task INGEST_IMAGE: Ingest image: \"projects/earthengine-legacy/assets/users/glennwithtwons/Classified_pixel_demo_2021\" (COMPLETED)>, <Task EXPORT_IMAGE: Image Export (COMPLETED)>, <Task INGEST_IMAGE: Ingest image: \"projects/earthengine-legacy/assets/users/glennwithtwons/Classified_pixel_demo_2020\" (COMPLETED)>, <Task EXPORT_IMAGE: Image Export (COMPLETED)>, <Task EXPORT_IMAGE: Image Export (FAILED)>, <Task EXPORT_IMAGE: Image Export (FAILED)>, <Task EXPORT_IMAGE: Image Export (FAILED)>, <Task EXPORT_IMAGE: Image Export (FAILED)>, <Task EXPORT_IMAGE: Image Export (COMPLETED)>, <Task EXPORT_IMAGE: Image Export (COMPLETED)>, <Task EXPORT_IMAGE: Image Export (COMPLETED)>, <Task INGEST_IMAGE: Ingest image: \"projects/earthengine-legacy/assets/users/glennwithtwons/Classified_pixel_demo99\" (COMPLETED)>, <Task EXPORT_IMAGE: Image Export (COMPLETED)>, <Task EXPORT_IMAGE: Image Export (FAILED)>, <Task EXPORT_IMAGE: Image Export (FAILED)>, <Task EXPORT_IMAGE: Image Export (FAILED)>, <Task EXPORT_IMAGE: Image Export (COMPLETED)>, <Task EXPORT_IMAGE: Image Export (FAILED)>, <Task INGEST: Asset ingestion: users/glennwithtwons/test_tf (FAILED)>, <Task INGEST_IMAGE: Ingest image: \"projects/earthengine-legacy/assets/users/glennwithtwons/Classified_pixel_demo0\" (COMPLETED)>, <Task EXPORT_IMAGE: Image Export (COMPLETED)>, <Task EXPORT_IMAGE: Image Export (FAILED)>, <Task INGEST_IMAGE: Ingest image: \"projects/earthengine-legacy/assets/users/glennwithtwons/Classified_pixel_demo5\" (COMPLETED)>, <Task INGEST_IMAGE: Ingest image: \"projects/earthengine-legacy/assets/users/glennwithtwons/Classified_pixel_demo4\" (COMPLETED)>, <Task EXPORT_IMAGE: Image Export (COMPLETED)>, <Task EXPORT_FEATURES: Testing Export (COMPLETED)>, <Task EXPORT_FEATURES: Training Export (COMPLETED)>, <Task INGEST_IMAGE: Ingest image: \"projects/earthengine-legacy/assets/users/glennwithtwons/Classified_pixel_demo3\" (COMPLETED)>, <Task EXPORT_IMAGE: Image Export (COMPLETED)>, <Task EXPORT_FEATURES: Testing Export (COMPLETED)>, <Task EXPORT_FEATURES: Training Export (COMPLETED)>, <Task INGEST_IMAGE: Ingest image: \"projects/earthengine-legacy/assets/users/glennwithtwons/Classified_pixel_demo2\" (COMPLETED)>, <Task EXPORT_IMAGE: Image Export (COMPLETED)>, <Task EXPORT_FEATURES: Testing Export (COMPLETED)>, <Task EXPORT_FEATURES: Training Export (COMPLETED)>, <Task EXPORT_FEATURES: Testing Export (COMPLETED)>, <Task EXPORT_FEATURES: Training Export (COMPLETED)>, <Task INGEST_IMAGE: Ingest image: \"projects/earthengine-legacy/assets/users/glennwithtwons/Classified_pixel_demo_l8\" (COMPLETED)>, <Task EXPORT_IMAGE: Image Export (COMPLETED)>, <Task EXPORT_FEATURES: Testing Export (COMPLETED)>, <Task EXPORT_FEATURES: Training Export (COMPLETED)>, <Task EXPORT_IMAGE: Image Export (COMPLETED)>, <Task EXPORT_FEATURES: Testing Export (COMPLETED)>, <Task EXPORT_FEATURES: Training Export (COMPLETED)>, <Task EXPORT_IMAGE: Image Export (COMPLETED)>, <Task EXPORT_FEATURES: Testing Export (COMPLETED)>, <Task EXPORT_FEATURES: Training Export (COMPLETED)>, <Task EXPORT_IMAGE: Image Export (COMPLETED)>, <Task EXPORT_IMAGE: Image Export (FAILED)>, <Task EXPORT_IMAGE: Image Export (FAILED)>, <Task EXPORT_IMAGE: Image Export (FAILED)>, <Task EXPORT_IMAGE: Image Export (FAILED)>, <Task EXPORT_FEATURES: Testing Export (COMPLETED)>, <Task EXPORT_FEATURES: Training Export (COMPLETED)>, <Task EXPORT_FEATURES: Testing Export (COMPLETED)>, <Task EXPORT_FEATURES: Training Export (COMPLETED)>, <Task EXPORT_FEATURES: Testing Export (COMPLETED)>, <Task EXPORT_FEATURES: Training Export (COMPLETED)>, <Task EXPORT_IMAGE: Image Export (COMPLETED)>, <Task EXPORT_FEATURES: Testing Export (COMPLETED)>, <Task EXPORT_FEATURES: Training Export (COMPLETED)>, <Task EXPORT_FEATURES: sieveexport1000 (COMPLETED)>, <Task EXPORT_IMAGE: s2_reno_012016_012020_01feb (COMPLETED)>]\n",
            "Polling for task (id: NKKY554FYKJ5LG4GRJBTKHHF).\n",
            "Done with training export.\n"
          ],
          "name": "stdout"
        }
      ]
    },
    {
      "cell_type": "markdown",
      "metadata": {
        "id": "43-c0JNFI_m6",
        "colab_type": "text"
      },
      "source": [
        "### Check existence of the exported files\n"
      ]
    },
    {
      "cell_type": "code",
      "metadata": {
        "id": "YDZfNl6yc0Kj",
        "colab_type": "code",
        "outputId": "8de44564-9554-4424-ff28-fdf68a95779c",
        "colab": {
          "base_uri": "https://localhost:8080/",
          "height": 51
        }
      },
      "source": [
        "fileNameSuffix = '.tfrecord.gz'\n",
        "trainFilePath = 'gs://' + outputBucket + '/' + trainFilePrefix + fileNameSuffix\n",
        "testFilePath = 'gs://' + outputBucket + '/' + testFilePrefix + fileNameSuffix\n",
        "\n",
        "print('Found training file.' if tf.io.gfile.exists(trainFilePath) \n",
        "    else 'No training file found.')\n",
        "print('Found testing file.' if tf.io.gfile.exists(testFilePath) \n",
        "    else 'No testing file found.')"
      ],
      "execution_count": 641,
      "outputs": [
        {
          "output_type": "stream",
          "text": [
            "Found training file.\n",
            "Found testing file.\n"
          ],
          "name": "stdout"
        }
      ]
    },
    {
      "cell_type": "markdown",
      "metadata": {
        "id": "NA8QA8oQVo8V",
        "colab_type": "text"
      },
      "source": [
        "## Export the imagery as tfrecord"
      ]
    },
    {
      "cell_type": "code",
      "metadata": {
        "id": "xll3pYpImmx5",
        "colab_type": "code",
        "colab": {}
      },
      "source": [
        "#define bands and dim\n",
        "patchdim = 256\n",
        "fmap = dict(zip(list(bands), np.repeat(tsLength,len(bands)).tolist()))"
      ],
      "execution_count": 0,
      "outputs": []
    },
    {
      "cell_type": "code",
      "metadata": {
        "id": "tVNhJYacVpEw",
        "colab_type": "code",
        "colab": {}
      },
      "source": [
        "imageFilePrefix = 'Image_pixel_demo_2020'\n",
        "# Specify patch and file dimensions.\n",
        "imageExportFormatOptions = {\n",
        "  'patchDimensions': [patchdim, patchdim],\n",
        "  'maxFileSize': 1048576000,\n",
        "  'compressed': True,\n",
        "  'tensorDepths': fmap\n",
        "}\n",
        "\n",
        "# Export imagery in this region.\n",
        "exportRegion =  ee.Geometry.Polygon(\\\n",
        "        [[[-122.49712825452804, 37.72807005959367],\\\n",
        "          [-122.49712825452804, 37.65471739519173],\\\n",
        "          [-122.41953731214522, 37.65471739519173],\\\n",
        "          [-122.41953731214522, 37.72807005959367]]])\n",
        "#exportRegion = ee.Geometry.Rectangle([-122.7, 37.3, -121.8, 38.00])\n",
        "\n",
        "# Setup the task\n",
        "imageTask = ee.batch.Export.image.toCloudStorage(\n",
        "  image=image,\n",
        "  description='Image Export',\n",
        "  fileNamePrefix=imageFilePrefix,\n",
        "  bucket=outputBucket,\n",
        "  scale=30,\n",
        "  fileFormat='TFRecord',\n",
        "  region=exportRegion.toGeoJSON()['coordinates'],\n",
        "  formatOptions=imageExportFormatOptions,\n",
        ")"
      ],
      "execution_count": 0,
      "outputs": []
    },
    {
      "cell_type": "code",
      "metadata": {
        "id": "6SweCkHDaNE3",
        "colab_type": "code",
        "colab": {}
      },
      "source": [
        "# Start the task.\n",
        "imageTask.start()"
      ],
      "execution_count": 0,
      "outputs": []
    },
    {
      "cell_type": "code",
      "metadata": {
        "id": "clOOCbA0jdXy",
        "colab_type": "code",
        "outputId": "ba488586-bd73-4a98-f123-5db1fc4af6db",
        "colab": {
          "base_uri": "https://localhost:8080/",
          "height": 153
        }
      },
      "source": [
        "imageTask.status()"
      ],
      "execution_count": 645,
      "outputs": [
        {
          "output_type": "execute_result",
          "data": {
            "text/plain": [
              "{'creation_timestamp_ms': 1581081842472,\n",
              " 'description': 'Image Export',\n",
              " 'id': '2HMHL2E7F5UHIYAPQWDVDYNY',\n",
              " 'name': 'projects/earthengine-legacy/operations/2HMHL2E7F5UHIYAPQWDVDYNY',\n",
              " 'start_timestamp_ms': 1581081852940,\n",
              " 'state': 'RUNNING',\n",
              " 'task_type': 'EXPORT_IMAGE',\n",
              " 'update_timestamp_ms': 1581081853071}"
            ]
          },
          "metadata": {
            "tags": []
          },
          "execution_count": 645
        }
      ]
    },
    {
      "cell_type": "markdown",
      "metadata": {
        "id": "JC8C53MRTG_E",
        "colab_type": "text"
      },
      "source": [
        "### Monitor task progress\n",
        "\n",
        "Before making predictions, we need the image export to finish, so block until it does.  This might take a few minutes..."
      ]
    },
    {
      "cell_type": "code",
      "metadata": {
        "id": "rKZeZswloP11",
        "colab_type": "code",
        "colab": {}
      },
      "source": [
        "while imageTask.active():\n",
        "  print('Polling for task (id: {}).'.format(imageTask.id))\n",
        "  time.sleep(30)\n",
        "print('Done with image export.')"
      ],
      "execution_count": 0,
      "outputs": []
    },
    {
      "cell_type": "markdown",
      "metadata": {
        "id": "9vWdH_wlZCEk",
        "colab_type": "text"
      },
      "source": [
        "# Data preparation and pre-processing"
      ]
    },
    {
      "cell_type": "code",
      "metadata": {
        "id": "T3PKyDQW8Vpx",
        "colab_type": "code",
        "cellView": "code",
        "outputId": "5791a269-8962-4048-8ac7-5d62dd0b5c88",
        "colab": {
          "base_uri": "https://localhost:8080/",
          "height": 54
        }
      },
      "source": [
        "# Create a dataset from the TFRecord file in Cloud Storage.\n",
        "trainDataset = tf.data.TFRecordDataset(trainFilePath, compression_type='GZIP')\n",
        "# Print the first record to check.\n",
        "print(iter(trainDataset).next())"
      ],
      "execution_count": 646,
      "outputs": [
        {
          "output_type": "stream",
          "text": [
            "tf.Tensor(b\"\\n\\xef\\x05\\nf\\n\\x02B2\\x12`\\x12^\\n\\\\J\\x0c\\x82=J\\x0c\\x82=J\\x0c\\x82=J\\x0c\\x82=J\\x0c\\x82=J\\x0c\\x82=J\\x0c\\x82=\\xca\\xc3\\xc2=\\xaa\\xf1\\xd2=\\xaa\\xf1\\xd2=\\xf8S\\xe3=\\xf8S\\xe3=\\xa1g\\xb3=\\x9e^\\xa9=\\x9e^\\xa9=33\\xb3=33\\xb3=\\xe5a\\xa1=\\xe5a\\xa1=\\xbe0\\x99=\\xbe0\\x99=\\xba\\xda\\x8a=\\xba\\xda\\x8a=\\nf\\n\\x02B3\\x12`\\x12^\\n\\\\\\xa0\\x1a\\xaf=\\xa0\\x1a\\xaf=\\xa0\\x1a\\xaf=\\xa0\\x1a\\xaf=\\xa0\\x1a\\xaf=\\xa0\\x1a\\xaf=\\xa0\\x1a\\xaf=\\xb2\\x9d\\xef=o\\xf0\\x05>o\\xf0\\x05>\\xdd$\\x06>\\xdd$\\x06>\\xa7\\xe8\\xc8=\\xf3\\x1f\\xd2=\\xf3\\x1f\\xd2=\\x85|\\xd0=\\x85|\\xd0=W\\xec\\xaf=W\\xec\\xaf=~\\x8c\\xb9=~\\x8c\\xb9=\\x9c\\xa2\\xa3=\\x9c\\xa2\\xa3=\\nf\\n\\x02B4\\x12`\\x12^\\n\\\\\\xc5\\xfe\\xb2=\\xc5\\xfe\\xb2=\\xc5\\xfe\\xb2=\\xc5\\xfe\\xb2=\\xc5\\xfe\\xb2=\\xc5\\xfe\\xb2=\\xc5\\xfe\\xb2=\\xb57\\xf8=\\xf1c\\x0c>\\xf1c\\x0c>\\xcf\\xf7\\x13>\\xcf\\xf7\\x13>\\xf5\\xb9\\xda=\\xf8S\\xe3=\\xf8S\\xe3=\\xab\\xcf\\xd5=\\xab\\xcf\\xd5=\\xee|\\xbf=\\xee|\\xbf=\\xf1\\xf4\\xca=\\xf1\\xf4\\xca=\\xc0[\\xa0=\\xc0[\\xa0=\\nf\\n\\x02B5\\x12`\\x12^\\n\\\\\\xcd\\xcc\\xcc=\\xcd\\xcc\\xcc=\\xcd\\xcc\\xcc=\\xcd\\xcc\\xcc=\\xcd\\xcc\\xcc=\\xcd\\xcc\\xcc=\\xcd\\xcc\\xcc=\\xe3\\xc7\\x18>\\x9f<,>\\x9f<,>\\xe8\\xd9,>\\xe8\\xd9,>\\xb7b\\xff=\\x14\\xae\\x07>\\x14\\xae\\x07>I.\\xff=I.\\xff=\\xd4+\\xe5=\\xd4+\\xe5= \\xd2\\xef= \\xd2\\xef=V\\x9f\\xab=V\\x9f\\xab=\\nf\\n\\x02B6\\x12`\\x12^\\n\\\\\\x93\\xa9\\x02>\\x93\\xa9\\x02>\\x93\\xa9\\x02>\\x93\\xa9\\x02>\\x93\\xa9\\x02>\\x93\\xa9\\x02>\\x93\\xa9\\x02>g\\xd5'>\\x7f\\xfb:>\\x7f\\xfb:>\\x10z6>\\x10z6>\\xb6\\x84\\xfc=\\xa8W\\n>\\xa8W\\n>j\\xde\\xf1=j\\xde\\xf1=\\x1dZ\\xe4=\\x1dZ\\xe4=\\xf9\\xa0\\xe7=\\xf9\\xa0\\xe7=\\xae\\xd8\\xdf=\\xae\\xd8\\xdf=\\nf\\n\\x02B7\\x12`\\x12^\\n\\\\\\x1aQ\\xda=\\x1aQ\\xda=\\x1aQ\\xda=\\x1aQ\\xda=\\x1aQ\\xda=\\x1aQ\\xda=\\x1aQ\\xda=`v\\x0f>\\xf9\\xa0'>\\xf9\\xa0'>\\xc0\\xec\\x1e>\\xc0\\xec\\x1e>\\x8c\\xdb\\xe8=\\xfee\\xf7=\\xfee\\xf7=\\xf4\\xfd\\xd4=\\xf4\\xfd\\xd4=^K\\xc8=^K\\xc8=;\\x01\\xcd=;\\x01\\xcd=\\xc9\\xe5\\xbf=\\xc9\\xe5\\xbf=\\nf\\n\\x02nd\\x12`\\x12^\\n\\\\\\xf4\\xb2\\x89=\\xf4\\xb2\\x89=\\xf4\\xb2\\x89=\\xf4\\xb2\\x89=\\xf4\\xb2\\x89=\\xf4\\xb2\\x89=\\xf4\\xb2\\x89=-\\x12\\xd4=\\xa7\\x9f\\xd0=\\xa7\\x9f\\xd0=\\x89\\xd8\\x9e=\\x89\\xd8\\x9e=\\xe6Z\\x9e=_\\xd4\\xb4=_\\xd4\\xb4==\\xa7\\xb4==\\xa7\\xb4=gv\\xb7=gv\\xb7=@\\x82\\xaa=@\\x82\\xaa=\\xd7\\xf9\\n=\\xd7\\xf9\\n=\\n\\x15\\n\\tlandcover\\x12\\x08\\x12\\x06\\n\\x04\\x00\\x00\\x00\\x00\", shape=(), dtype=string)\n"
          ],
          "name": "stdout"
        }
      ]
    },
    {
      "cell_type": "code",
      "metadata": {
        "id": "-6JVQV5HKHMZ",
        "colab_type": "code",
        "cellView": "code",
        "outputId": "661e67e2-30de-4c83-d81b-e2a49bc807e9",
        "colab": {
          "base_uri": "https://localhost:8080/",
          "height": 153
        }
      },
      "source": [
        "# List of fixed-length features, all of which are float32.\n",
        "columns = [\n",
        "  tf.io.FixedLenFeature(shape=[tsLength], dtype=tf.float32),\n",
        "  tf.io.FixedLenFeature(shape=[tsLength], dtype=tf.float32),\n",
        "  tf.io.FixedLenFeature(shape=[tsLength], dtype=tf.float32),\n",
        "  tf.io.FixedLenFeature(shape=[tsLength], dtype=tf.float32),\n",
        "  tf.io.FixedLenFeature(shape=[tsLength], dtype=tf.float32),\n",
        "  tf.io.FixedLenFeature(shape=[tsLength], dtype=tf.float32),\n",
        "  tf.io.FixedLenFeature(shape=[tsLength], dtype=tf.float32),\n",
        "  tf.io.FixedLenFeature(shape=[1], dtype=tf.float32)\n",
        "]\n",
        "\n",
        "# Dictionary with names as keys, features as values.\n",
        "featuresDict = dict(zip(featureNames, columns))\n",
        "\n",
        "pprint(featuresDict)"
      ],
      "execution_count": 647,
      "outputs": [
        {
          "output_type": "stream",
          "text": [
            "{'B2': FixedLenFeature(shape=[23], dtype=tf.float32, default_value=None),\n",
            " 'B3': FixedLenFeature(shape=[23], dtype=tf.float32, default_value=None),\n",
            " 'B4': FixedLenFeature(shape=[23], dtype=tf.float32, default_value=None),\n",
            " 'B5': FixedLenFeature(shape=[23], dtype=tf.float32, default_value=None),\n",
            " 'B6': FixedLenFeature(shape=[23], dtype=tf.float32, default_value=None),\n",
            " 'B7': FixedLenFeature(shape=[23], dtype=tf.float32, default_value=None),\n",
            " 'landcover': FixedLenFeature(shape=[1], dtype=tf.float32, default_value=None),\n",
            " 'nd': FixedLenFeature(shape=[23], dtype=tf.float32, default_value=None)}\n"
          ],
          "name": "stdout"
        }
      ]
    },
    {
      "cell_type": "markdown",
      "metadata": {
        "id": "QNfaUPbcjuCO",
        "colab_type": "text"
      },
      "source": [
        "## Parse the dataset\n"
      ]
    },
    {
      "cell_type": "code",
      "metadata": {
        "id": "x2Q0g3fBj2kD",
        "colab_type": "code",
        "cellView": "code",
        "colab": {}
      },
      "source": [
        "def parse_tfrecord(example_proto):\n",
        "  \"\"\"The parsing function.\n",
        "\n",
        "  Read a serialized example into the structure defined by featuresDict.\n",
        "\n",
        "  Args:\n",
        "    example_proto: a serialized Example.\n",
        "  \n",
        "  Returns: \n",
        "    A tuple of the predictors dictionary and the label, cast to an `int32`.\n",
        "  \"\"\"\n",
        "  parsed_features = tf.io.parse_single_example(example_proto, featuresDict)\n",
        "  labels = parsed_features.pop(label)\n",
        "  return parsed_features, tf.cast(labels, tf.int32)\n",
        "\n",
        "# Map the function over the dataset.\n",
        "parsedDataset = trainDataset.map(parse_tfrecord, num_parallel_calls=5)\n",
        "\n",
        "# How many classes there are in the model.\n",
        "nClasses = 3\n",
        "\n",
        "inputDataset = parsedDataset\n"
      ],
      "execution_count": 0,
      "outputs": []
    },
    {
      "cell_type": "code",
      "metadata": {
        "id": "DQY8r3crWXlu",
        "colab_type": "code",
        "colab": {}
      },
      "source": [
        "\n",
        "# Keras requires inputs as a tuple.  Note that the inputs must be in the\n",
        "# right shape.  Also note that to use the categorical_crossentropy loss,\n",
        "# the label needs to be turned into a one-hot vector.\n",
        "def toTuple(dictionary, label):\n",
        "  return tf.transpose(list(dictionary.values())), tf.one_hot(indices=label, depth=nClasses)\n",
        "\n",
        "# Repeat the input dataset as many times as necessary in batches of 10.\n",
        "inputDataset = inputDataset.map(toTuple).repeat().batch(10)\n",
        "#inputDataset = inputDataset.map(toTuple).shuffle(buffer_size=20, seed=42).batch(10)\n"
      ],
      "execution_count": 0,
      "outputs": []
    },
    {
      "cell_type": "markdown",
      "metadata": {
        "id": "t9pWa54oG-xl",
        "colab_type": "text"
      },
      "source": [
        "## Create the Keras model\n",
        " architecture from https://github.com/charlotte-pel/igarss2019-dl4sits"
      ]
    },
    {
      "cell_type": "code",
      "metadata": {
        "id": "ux5Hplh0bC8Q",
        "colab_type": "code",
        "outputId": "8943c4ca-40e2-480b-9300-a9e8b556777b",
        "colab": {
          "base_uri": "https://localhost:8080/",
          "height": 221
        }
      },
      "source": [
        "from tensorflow.keras.models import Sequential\n",
        "from tensorflow.keras.layers import Dense, Conv1D, Flatten, Dropout, BatchNormalization\n",
        "\n",
        "\n",
        "# Define the layers in the model.\n",
        "model = Sequential([\n",
        "  Conv1D(filters=32, kernel_size=5, padding = 'same', activation='relu',input_shape=(tsLength,len(bands))),\n",
        " # BatchNormalization(),\n",
        " # Dropout(0.2),\n",
        "  Conv1D(filters=32, kernel_size=5, padding = 'same', activation='relu'),\n",
        " # BatchNormalization(),\n",
        " # Dropout(0.2),\n",
        "  Flatten(),\n",
        "  Dense(256, activation='relu'),\n",
        "#  BatchNormalization(),\n",
        "  Dropout(0.2),\n",
        "  Dense(nClasses, activation='softmax')\n",
        "])\n",
        "\n",
        "# Compile the model with the specified loss function.\n",
        "model.compile(optimizer='Adam',\n",
        "              loss='categorical_crossentropy',\n",
        "              metrics=['accuracy'])\n",
        "\n",
        "# Fit the model to the training data.\n",
        "# Don't forget to specify `steps_per_epoch` when calling `fit` on a dataset.\n",
        "model.fit(x=inputDataset, epochs=5,steps_per_epoch=100)\n"
      ],
      "execution_count": 650,
      "outputs": [
        {
          "output_type": "stream",
          "text": [
            "Train for 100 steps\n",
            "Epoch 1/5\n",
            "100/100 [==============================] - 2s 22ms/step - loss: 0.2608 - accuracy: 0.7950\n",
            "Epoch 2/5\n",
            "100/100 [==============================] - 2s 18ms/step - loss: 0.0175 - accuracy: 0.8536\n",
            "Epoch 3/5\n",
            "100/100 [==============================] - 2s 18ms/step - loss: 0.0026 - accuracy: 0.8608\n",
            "Epoch 4/5\n",
            "100/100 [==============================] - 2s 17ms/step - loss: 0.0011 - accuracy: 0.8592\n",
            "Epoch 5/5\n",
            "100/100 [==============================] - 2s 20ms/step - loss: 5.9078e-04 - accuracy: 0.8560\n"
          ],
          "name": "stdout"
        },
        {
          "output_type": "execute_result",
          "data": {
            "text/plain": [
              "<tensorflow.python.keras.callbacks.History at 0x7fc1dea67358>"
            ]
          },
          "metadata": {
            "tags": []
          },
          "execution_count": 650
        }
      ]
    },
    {
      "cell_type": "markdown",
      "metadata": {
        "id": "Pa4ex_4eKiyb",
        "colab_type": "text"
      },
      "source": [
        "## Check model accuracy on the test set\n"
      ]
    },
    {
      "cell_type": "code",
      "metadata": {
        "id": "tE6d7FsrMa1p",
        "colab_type": "code",
        "cellView": "code",
        "outputId": "222d702c-6892-43f1-e21b-1ed9a5112b2a",
        "colab": {
          "base_uri": "https://localhost:8080/",
          "height": 71
        }
      },
      "source": [
        "testDataset = (\n",
        "  tf.data.TFRecordDataset(testFilePath, compression_type='GZIP')\n",
        "    .map(parse_tfrecord, num_parallel_calls=5)\n",
        "    .map(toTuple)\n",
        "    .batch(10)\n",
        ")\n",
        "\n",
        "model.evaluate(testDataset, steps=100)"
      ],
      "execution_count": 651,
      "outputs": [
        {
          "output_type": "stream",
          "text": [
            "\r  1/100 [..............................] - ETA: 25s - loss: 0.0023 - accuracy: 0.6800WARNING:tensorflow:Your input ran out of data; interrupting training. Make sure that your dataset or generator can generate at least `steps_per_epoch * epochs` batches (in this case, 100 batches). You may need to use the repeat() function when building your dataset.\n"
          ],
          "name": "stdout"
        },
        {
          "output_type": "execute_result",
          "data": {
            "text/plain": [
              "[2.356533296165253e-05, 0.7866667]"
            ]
          },
          "metadata": {
            "tags": []
          },
          "execution_count": 651
        }
      ]
    },
    {
      "cell_type": "markdown",
      "metadata": {
        "id": "nhHrnv3VR0DU",
        "colab_type": "text"
      },
      "source": [
        "# Use the trained model to classify an image from Earth Engine\n"
      ]
    },
    {
      "cell_type": "markdown",
      "metadata": {
        "id": "nmTayDitZgQ5",
        "colab_type": "text"
      },
      "source": [
        "## Find the image files and JSON mixer file in Cloud Storage\n"
      ]
    },
    {
      "cell_type": "code",
      "metadata": {
        "id": "oUv9WMpcVp8E",
        "colab_type": "code",
        "outputId": "e792beba-21ff-462f-8c58-8019760ed28a",
        "colab": {
          "base_uri": "https://localhost:8080/",
          "height": 34
        }
      },
      "source": [
        "# Get a list of all the files in the output bucket.\n",
        "filesList = !gsutil ls 'gs://'{outputBucket}\n",
        "# Get only the files generated by the image export.\n",
        "exportFilesList = [s for s in filesList if imageFilePrefix in s]\n",
        "\n",
        "# Get the list of image files and the JSON mixer file.\n",
        "imageFilesList = []\n",
        "jsonFile = None\n",
        "for f in exportFilesList:\n",
        "  if f.endswith('.tfrecord.gz'):\n",
        "    imageFilesList.append(f)\n",
        "  elif f.endswith('.json'):\n",
        "    jsonFile = f\n",
        "\n",
        "# Make sure the files are in the right order.\n",
        "print(imageFilesList.sort())\n"
      ],
      "execution_count": 652,
      "outputs": [
        {
          "output_type": "stream",
          "text": [
            "None\n"
          ],
          "name": "stdout"
        }
      ]
    },
    {
      "cell_type": "code",
      "metadata": {
        "id": "SZZwfMdjg-Q5",
        "colab_type": "code",
        "outputId": "f3707c30-a33e-4194-a55b-ca46c99f5c1c",
        "colab": {
          "base_uri": "https://localhost:8080/",
          "height": 51
        }
      },
      "source": [
        "\n",
        "pprint(imageFilesList)\n",
        "print(jsonFile)"
      ],
      "execution_count": 653,
      "outputs": [
        {
          "output_type": "stream",
          "text": [
            "['gs://ee-tf-example/Image_pixel_demo_2020.tfrecord.gz']\n",
            "gs://ee-tf-example/Image_pixel_demo_2020.json\n"
          ],
          "name": "stdout"
        }
      ]
    },
    {
      "cell_type": "markdown",
      "metadata": {
        "id": "RcjYG9fk53xL",
        "colab_type": "text"
      },
      "source": [
        "## Read the JSON mixer file\n",
        "\n",
        "The mixer contains metadata and georeferencing information for the exported patches, each of which is in a different file.  Read the mixer to get some information needed for prediction."
      ]
    },
    {
      "cell_type": "code",
      "metadata": {
        "id": "Gn7Dr0AAd93_",
        "colab_type": "code",
        "outputId": "0e4e8e72-ff1d-4170-ee20-8ff1a30c45c2",
        "colab": {
          "base_uri": "https://localhost:8080/",
          "height": 187
        }
      },
      "source": [
        "import json\n",
        "\n",
        "# Load the contents of the mixer file to a JSON object.\n",
        "jsonText = !gsutil cat {jsonFile}\n",
        "# Get a single string w/ newlines from the IPython.utils.text.SList\n",
        "mixer = json.loads(jsonText.nlstr)\n",
        "pprint(mixer)"
      ],
      "execution_count": 654,
      "outputs": [
        {
          "output_type": "stream",
          "text": [
            "{'patchDimensions': [256, 256],\n",
            " 'patchesPerRow': 1,\n",
            " 'projection': {'affine': {'doubleMatrix': [0.00026949458523585647,\n",
            "                                            0.0,\n",
            "                                            -122.49714675144715,\n",
            "                                            0.0,\n",
            "                                            -0.00026949458523585647,\n",
            "                                            37.72816395467896]},\n",
            "                'crs': 'EPSG:4326'},\n",
            " 'totalPatches': 1}\n"
          ],
          "name": "stdout"
        }
      ]
    },
    {
      "cell_type": "markdown",
      "metadata": {
        "id": "6xyzyPPJwpVI",
        "colab_type": "text"
      },
      "source": [
        "## Read the image files into a dataset\n"
      ]
    },
    {
      "cell_type": "code",
      "metadata": {
        "id": "tn8Kj3VfwpiJ",
        "colab_type": "code",
        "cellView": "code",
        "colab": {}
      },
      "source": [
        "# Get relevant info from the JSON mixer file.\n",
        "PATCH_WIDTH = mixer['patchDimensions'][0]\n",
        "PATCH_HEIGHT = mixer['patchDimensions'][1]\n",
        "PATCHES = mixer['totalPatches']\n",
        "PATCH_DIMENSIONS_FLAT = [PATCH_WIDTH * PATCH_HEIGHT,tsLength]\n",
        "\n",
        "# Note that the tensors are in the shape of a patch, one patch for each band.\n",
        "imageColumns = [\n",
        "  tf.io.FixedLenFeature(shape=PATCH_DIMENSIONS_FLAT, dtype=tf.float32) \n",
        "    for k in bands\n",
        "]\n",
        "\n",
        "# Parsing dictionary.\n",
        "imageFeaturesDict = dict(zip(bands, imageColumns))\n",
        "\n",
        "# Note that you can make one dataset from many files by specifying a list.\n",
        "imageDataset = tf.data.TFRecordDataset(imageFilesList, compression_type='GZIP')\n"
      ],
      "execution_count": 0,
      "outputs": []
    },
    {
      "cell_type": "code",
      "metadata": {
        "id": "T1ncDG2bbT2f",
        "colab_type": "code",
        "colab": {
          "base_uri": "https://localhost:8080/",
          "height": 136
        },
        "outputId": "3355966e-a27c-4a63-fc3d-ccaae336406f"
      },
      "source": [
        "imageFeaturesDict"
      ],
      "execution_count": 656,
      "outputs": [
        {
          "output_type": "execute_result",
          "data": {
            "text/plain": [
              "{'B2': FixedLenFeature(shape=[65536, 23], dtype=tf.float32, default_value=None),\n",
              " 'B3': FixedLenFeature(shape=[65536, 23], dtype=tf.float32, default_value=None),\n",
              " 'B4': FixedLenFeature(shape=[65536, 23], dtype=tf.float32, default_value=None),\n",
              " 'B5': FixedLenFeature(shape=[65536, 23], dtype=tf.float32, default_value=None),\n",
              " 'B6': FixedLenFeature(shape=[65536, 23], dtype=tf.float32, default_value=None),\n",
              " 'B7': FixedLenFeature(shape=[65536, 23], dtype=tf.float32, default_value=None),\n",
              " 'nd': FixedLenFeature(shape=[65536, 23], dtype=tf.float32, default_value=None)}"
            ]
          },
          "metadata": {
            "tags": []
          },
          "execution_count": 656
        }
      ]
    },
    {
      "cell_type": "code",
      "metadata": {
        "id": "8_WljdLgpBh3",
        "colab_type": "code",
        "colab": {}
      },
      "source": [
        "# Parsing function.\n",
        "def parse_image(example_proto):\n",
        "  return tf.io.parse_single_example(example_proto, imageFeaturesDict)\n",
        "\n",
        "# Parse the data into tensors, one long tensor per patch.\n",
        "imageDataset = imageDataset.map(parse_image, num_parallel_calls=5)\n"
      ],
      "execution_count": 0,
      "outputs": []
    },
    {
      "cell_type": "code",
      "metadata": {
        "id": "7BNPzVNipBrS",
        "colab_type": "code",
        "colab": {}
      },
      "source": [
        "# Break our long tensors into many little ones.\n",
        "imageDataset = imageDataset.flat_map(\n",
        "  lambda features: tf.data.Dataset.from_tensor_slices(features)\n",
        ")\n"
      ],
      "execution_count": 0,
      "outputs": []
    },
    {
      "cell_type": "code",
      "metadata": {
        "id": "yHFSkwZ5pOa0",
        "colab_type": "code",
        "colab": {}
      },
      "source": [
        "# Turn the dictionary in each record into a tuple without a label.\n",
        "imageDataset = imageDataset.map(\n",
        "  lambda dataDict: (tf.transpose(list(dataDict.values())), )\n",
        ")"
      ],
      "execution_count": 0,
      "outputs": []
    },
    {
      "cell_type": "code",
      "metadata": {
        "id": "rz6S96OMpB3D",
        "colab_type": "code",
        "colab": {}
      },
      "source": [
        "# Turn each patch into a batch.\n",
        "imageDataset = imageDataset.batch(PATCH_WIDTH * PATCH_HEIGHT)"
      ],
      "execution_count": 0,
      "outputs": []
    },
    {
      "cell_type": "markdown",
      "metadata": {
        "id": "_2sfRemRRDkV",
        "colab_type": "text"
      },
      "source": [
        "## Generate predictions for the image pixels\n",
        "\n",
        "To get predictions in each pixel, run the image dataset through the trained model using `model.predict()`.  Print the first prediction to see that the output is a list of the three class probabilities for each pixel.  Running all predictions might take a while."
      ]
    },
    {
      "cell_type": "code",
      "metadata": {
        "id": "8VGhmiP_REBP",
        "colab_type": "code",
        "outputId": "76f147fd-391a-4a87-d6a1-acc3936920bb",
        "colab": {
          "base_uri": "https://localhost:8080/",
          "height": 51
        }
      },
      "source": [
        "# Run prediction in batches, with as many steps as there are patches.\n",
        "predictions = model.predict(imageDataset, steps=1, verbose=1)\n",
        "\n",
        "# Note that the predictions come as a numpy array.  Check the first one.\n",
        "print(predictions[0])"
      ],
      "execution_count": 661,
      "outputs": [
        {
          "output_type": "stream",
          "text": [
            "\r1/1 [==============================] - 4s 4s/step\n",
            "[5.6373872e-05 9.9854076e-01 1.4028219e-03]\n"
          ],
          "name": "stdout"
        }
      ]
    },
    {
      "cell_type": "markdown",
      "metadata": {
        "id": "bPU2VlPOikAy",
        "colab_type": "text"
      },
      "source": [
        "## Write the predictions to a TFRecord file\n"
      ]
    },
    {
      "cell_type": "code",
      "metadata": {
        "id": "AkorbsEHepzJ",
        "colab_type": "code",
        "outputId": "a7a5929b-4d0e-4413-a357-a71b50c4420c",
        "colab": {
          "base_uri": "https://localhost:8080/",
          "height": 34
        }
      },
      "source": [
        "outputImageFile = 'gs://' + outputBucket + '/Classified_pixel_demo_2022.TFRecord'\n",
        "print('Writing to file ' + outputImageFile)"
      ],
      "execution_count": 662,
      "outputs": [
        {
          "output_type": "stream",
          "text": [
            "Writing to file gs://ee-tf-example/Classified_pixel_demo_2022.TFRecord\n"
          ],
          "name": "stdout"
        }
      ]
    },
    {
      "cell_type": "code",
      "metadata": {
        "id": "kATMknHc0qeR",
        "colab_type": "code",
        "cellView": "code",
        "outputId": "5c92306b-dac8-4d85-c63b-5ae12555b490",
        "colab": {
          "base_uri": "https://localhost:8080/",
          "height": 34
        }
      },
      "source": [
        "# Instantiate the writer.\n",
        "writer = tf.io.TFRecordWriter(outputImageFile)\n",
        "\n",
        "# Every patch-worth of predictions we'll dump an example into the output\n",
        "# file with a single feature that holds our predictions. Since our predictions\n",
        "# are already in the order of the exported data, the patches we create here\n",
        "# will also be in the right order.\n",
        "patch = [[], [], [], []]\n",
        "curPatch = 1\n",
        "for prediction in predictions:\n",
        "  patch[0].append(tf.argmax(prediction))\n",
        "  patch[1].append(prediction[0])\n",
        "  patch[2].append(prediction[1])\n",
        "  patch[3].append(prediction[2])\n",
        "  # Once we've seen a patches-worth of class_ids...\n",
        "  if (len(patch[0]) == PATCH_WIDTH * PATCH_HEIGHT):\n",
        "    print('Done with patch ' + str(curPatch) + ' of ' + str(PATCHES) + '...')\n",
        "    # Create an example\n",
        "    example = tf.train.Example(\n",
        "      features=tf.train.Features(\n",
        "        feature={\n",
        "          'prediction': tf.train.Feature(\n",
        "              int64_list=tf.train.Int64List(\n",
        "                  value=patch[0])),\n",
        "          'bareProb': tf.train.Feature(\n",
        "              float_list=tf.train.FloatList(\n",
        "                  value=patch[1])),\n",
        "          'vegProb': tf.train.Feature(\n",
        "              float_list=tf.train.FloatList(\n",
        "                  value=patch[2])),\n",
        "          'waterProb': tf.train.Feature(\n",
        "              float_list=tf.train.FloatList(\n",
        "                  value=patch[3])),\n",
        "        }\n",
        "      )\n",
        "    )\n",
        "    # Write the example to the file and clear our patch array so it's ready for\n",
        "    # another batch of class ids\n",
        "    writer.write(example.SerializeToString())\n",
        "    patch = [[], [], [], []]\n",
        "    curPatch += 1\n",
        "\n",
        "writer.close()"
      ],
      "execution_count": 663,
      "outputs": [
        {
          "output_type": "stream",
          "text": [
            "Done with patch 1 of 1...\n"
          ],
          "name": "stdout"
        }
      ]
    },
    {
      "cell_type": "markdown",
      "metadata": {
        "id": "1K_1hKs0aBdA",
        "colab_type": "text"
      },
      "source": [
        "# Upload the classifications to an Earth Engine asset"
      ]
    },
    {
      "cell_type": "markdown",
      "metadata": {
        "id": "M6sNZXWOSa82",
        "colab_type": "text"
      },
      "source": [
        "## Verify the existence of the predictions file"
      ]
    },
    {
      "cell_type": "code",
      "metadata": {
        "id": "6ZVWDPefUCgA",
        "colab_type": "code",
        "colab": {}
      },
      "source": [
        "!gsutil ls -l {outputImageFile}"
      ],
      "execution_count": 0,
      "outputs": []
    },
    {
      "cell_type": "markdown",
      "metadata": {
        "id": "2ZyCo297Clcx",
        "colab_type": "text"
      },
      "source": [
        "## Upload the classified image to Earth Engine\n"
      ]
    },
    {
      "cell_type": "code",
      "metadata": {
        "id": "NXulMNl9lTDv",
        "colab_type": "code",
        "cellView": "code",
        "outputId": "a138919e-fefc-4d4b-b983-d270f8939f4b",
        "colab": {
          "base_uri": "https://localhost:8080/",
          "height": 34
        }
      },
      "source": [
        "# REPLACE WITH YOUR USERNAME:\n",
        "USER_NAME = 'glennwithtwons'\n",
        "outputAssetID = 'users/' + USER_NAME + '/Classified_pixel_demo_2020'\n",
        "print('Writing to ' + outputAssetID)"
      ],
      "execution_count": 664,
      "outputs": [
        {
          "output_type": "stream",
          "text": [
            "Writing to users/glennwithtwons/Classified_pixel_demo_2020\n"
          ],
          "name": "stdout"
        }
      ]
    },
    {
      "cell_type": "code",
      "metadata": {
        "id": "V64tcVxsO5h6",
        "colab_type": "code",
        "colab": {}
      },
      "source": [
        "# Start the upload.\n",
        "!earthengine upload image --asset_id={outputAssetID} {outputImageFile} {jsonFile}"
      ],
      "execution_count": 0,
      "outputs": []
    },
    {
      "cell_type": "code",
      "metadata": {
        "id": "_vB-gwGhl_3C",
        "colab_type": "code",
        "cellView": "code",
        "colab": {}
      },
      "source": [
        "ee.batch.Task.list()"
      ],
      "execution_count": 0,
      "outputs": []
    },
    {
      "cell_type": "markdown",
      "metadata": {
        "id": "vvXvy9GDhM-p",
        "colab_type": "text"
      },
      "source": [
        "## View the ingested asset\n",
        "\n",
        "Display the vector of class probabilities as an RGB image with colors corresponding to the probability of bare, vegetation, water in a pixel.  Also display the winning class using the same color palette."
      ]
    },
    {
      "cell_type": "code",
      "metadata": {
        "id": "kEkVxIyJiFd4",
        "colab_type": "code",
        "outputId": "063f5e85-deb0-4f4c-cc09-a65343de48d6",
        "colab": {
          "base_uri": "https://localhost:8080/",
          "height": 531
        }
      },
      "source": [
        "predictionsImage = ee.Image(outputAssetID)\n",
        "\n",
        "predictionVis = {\n",
        "  'bands': 'prediction',\n",
        "  'min': 0,\n",
        "  'max': 2,\n",
        "  'palette': ['red', 'green', 'blue']\n",
        "}\n",
        "probabilityVis = {'bands': ['bareProb', 'vegProb', 'waterProb']}\n",
        "\n",
        "predictionMapid = predictionsImage.getMapId(predictionVis)\n",
        "probabilityMapid = predictionsImage.getMapId(probabilityVis)\n",
        "\n",
        "map = folium.Map(location=[38., -122.5])\n",
        "folium.TileLayer(\n",
        "  tiles=predictionMapid['tile_fetcher'].url_format,\n",
        "  attr='Map Data &copy; <a href=\"https://earthengine.google.com/\">Google Earth Engine</a>',\n",
        "  overlay=True,\n",
        "  name='prediction',\n",
        ").add_to(map)\n",
        "folium.TileLayer(\n",
        "  tiles=probabilityMapid['tile_fetcher'].url_format,\n",
        "  attr='Map Data &copy; <a href=\"https://earthengine.google.com/\">Google Earth Engine</a>',\n",
        "  overlay=True,\n",
        "  name='probability',\n",
        ").add_to(map)\n",
        "map.add_child(folium.LayerControl())\n",
        "map"
      ],
      "execution_count": 666,
      "outputs": [
        {
          "output_type": "execute_result",
          "data": {
            "text/html": [
              "<div style=\"width:100%;\"><div style=\"position:relative;width:100%;height:0;padding-bottom:60%;\"><iframe src=\"data:text/html;charset=utf-8;base64,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\" style=\"position:absolute;width:100%;height:100%;left:0;top:0;border:none !important;\" allowfullscreen webkitallowfullscreen mozallowfullscreen></iframe></div></div>"
            ],
            "text/plain": [
              "<folium.folium.Map at 0x7fc20c6e9c50>"
            ]
          },
          "metadata": {
            "tags": []
          },
          "execution_count": 666
        }
      ]
    }
  ]
}