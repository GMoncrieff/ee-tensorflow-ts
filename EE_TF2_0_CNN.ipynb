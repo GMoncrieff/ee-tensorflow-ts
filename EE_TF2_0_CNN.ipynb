{
  "nbformat": 4,
  "nbformat_minor": 0,
  "metadata": {
    "colab": {
      "name": "EE_TF2-0_CNN.ipynb",
      "provenance": [],
      "collapsed_sections": []
    },
    "kernelspec": {
      "name": "python3",
      "display_name": "Python 3"
    },
    "accelerator": "GPU"
  },
  "cells": [
    {
      "cell_type": "markdown",
      "metadata": {
        "colab_type": "text",
        "id": "d6dQegu6czA5"
      },
      "source": [
        "## Authenticate to Colab and Cloud\n"
      ]
    },
    {
      "cell_type": "code",
      "metadata": {
        "id": "5qMKG1hEXuML",
        "colab_type": "code",
        "cellView": "code",
        "colab": {}
      },
      "source": [
        "from google.colab import auth\n",
        "\n",
        "auth.authenticate_user()"
      ],
      "execution_count": 0,
      "outputs": []
    },
    {
      "cell_type": "markdown",
      "metadata": {
        "id": "Ejxa1MQjEGv9",
        "colab_type": "text"
      },
      "source": [
        "## Authenticate to Earth Engine and initialize"
      ]
    },
    {
      "cell_type": "code",
      "metadata": {
        "id": "HzwiVqbcmJIX",
        "colab_type": "code",
        "cellView": "code",
        "colab": {}
      },
      "source": [
        "# Import the Earth Engine API and initialize it.\n",
        "import ee\n",
        "\n",
        "# Trigger the authentication flow.\n",
        "ee.Authenticate()\n",
        "\n",
        "# Initialize the library.\n",
        "ee.Initialize()"
      ],
      "execution_count": 0,
      "outputs": []
    },
    {
      "cell_type": "markdown",
      "metadata": {
        "id": "eJPDyllIMRAa",
        "colab_type": "text"
      },
      "source": [
        "## Test the Earth Engine installation\n",
        "\n"
      ]
    },
    {
      "cell_type": "code",
      "metadata": {
        "id": "uuAk34-HMXnG",
        "colab_type": "code",
        "colab": {}
      },
      "source": [
        "# Test the earthengine command by getting help on upload.\n",
        "!earthengine upload image -h"
      ],
      "execution_count": 0,
      "outputs": []
    },
    {
      "cell_type": "markdown",
      "metadata": {
        "id": "iJ70EsoWND_0",
        "colab_type": "text"
      },
      "source": [
        "## Test the TensorFlow installation\n",
        "\n",
        "upgraded to TF2.0"
      ]
    },
    {
      "cell_type": "code",
      "metadata": {
        "id": "i1PrYRLaVw_g",
        "colab_type": "code",
        "cellView": "code",
        "colab": {
          "base_uri": "https://localhost:8080/",
          "height": 51
        },
        "outputId": "21bb60fe-061b-41f7-919c-e322f1440d90"
      },
      "source": [
        "from __future__ import absolute_import, division, print_function, unicode_literals\n",
        "try:\n",
        "  # %tensorflow_version only exists in Colab.\n",
        "  %tensorflow_version 2.x\n",
        "except Exception:\n",
        "  pass\n",
        "import tensorflow as tf\n",
        "print(tf.__version__)"
      ],
      "execution_count": 3,
      "outputs": [
        {
          "output_type": "stream",
          "text": [
            "TensorFlow 2.x selected.\n",
            "2.1.0\n"
          ],
          "name": "stdout"
        }
      ]
    },
    {
      "cell_type": "markdown",
      "metadata": {
        "id": "m0cy_4j7XG_i",
        "colab_type": "text"
      },
      "source": [
        "# Import other libraries"
      ]
    },
    {
      "cell_type": "code",
      "metadata": {
        "id": "NRmQEFsuXDec",
        "colab_type": "code",
        "colab": {
          "base_uri": "https://localhost:8080/",
          "height": 34
        },
        "outputId": "02d223ca-9324-40d2-f1b1-1307b67c274f"
      },
      "source": [
        "import numpy as np\n",
        "import folium\n",
        "print(folium.__version__)"
      ],
      "execution_count": 4,
      "outputs": [
        {
          "output_type": "stream",
          "text": [
            "0.8.3\n"
          ],
          "name": "stdout"
        }
      ]
    },
    {
      "cell_type": "markdown",
      "metadata": {
        "id": "0EJfjgelSOpN",
        "colab_type": "text"
      },
      "source": [
        "## Prepare Landsat 8 imagery\n",
        "\n",
        "First, make a mosaic of Landsat 8 surface reflectance imagery. We will analyze the full time series for 2017"
      ]
    },
    {
      "cell_type": "code",
      "metadata": {
        "id": "JchSUIe8HUIU",
        "colab_type": "code",
        "colab": {}
      },
      "source": [
        "#date sequence\n",
        "Date_Start = ee.Date('2017-01-01')\n",
        "Date_End = ee.Date('2017-12-31')\n",
        "dstep = 16\n",
        "\n",
        "n_day = Date_End.difference(Date_Start,'day').round()\n",
        "dates = ee.List.sequence(0,n_day,dstep)\n",
        "def make_datelist(n):\n",
        "  return Date_Start.advance(n,'day')\n",
        "\n",
        "dates = dates.map(make_datelist)"
      ],
      "execution_count": 0,
      "outputs": []
    },
    {
      "cell_type": "code",
      "metadata": {
        "id": "DJYucYe3SPPr",
        "colab_type": "code",
        "colab": {}
      },
      "source": [
        "# Change the following two lines to use your own training data.\n",
        "labels = ee.FeatureCollection('GOOGLE/EE/DEMOS/demo_landcover_labels')\n",
        "label = 'landcover'\n",
        "\n",
        "# Use these bands for prediction.\n",
        "bands = ['B2', 'B3', 'B4', 'B5', 'B6', 'B7','nd']\n",
        "# Use Landsat 8 surface reflectance data.\n",
        "l8sr = ee.ImageCollection('LANDSAT/LC08/C01/T1_SR')\n"
      ],
      "execution_count": 0,
      "outputs": []
    },
    {
      "cell_type": "code",
      "metadata": {
        "id": "4ehqGpJjUDHR",
        "colab_type": "code",
        "colab": {}
      },
      "source": [
        "def addNDVI(image):\n",
        "  ndvi = image.normalizedDifference(['B5', 'B4']).multiply(10000)\n",
        "  return image.addBands(ndvi)\n",
        "\n",
        "#to fill nulls with previous non null record\n",
        "def gap_fill(image, listb):\n",
        "  current = image.unmask(-999)\n",
        "  previous = ee.Image(ee.List(listb).get(-1))\n",
        "  new = current.where(current.eq(-999), previous).set('system:time_start', image.get('system:time_start'))\n",
        "  return ee.List(listb).add(new)\n",
        "\n",
        "# Cloud masking function.\n",
        "def maskL8sr(image):\n",
        "  cloudShadowBitMask = ee.Number(2).pow(3).int()\n",
        "  cloudsBitMask = ee.Number(2).pow(5).int()\n",
        "  qa = image.select('pixel_qa')\n",
        "  mask = qa.bitwiseAnd(cloudShadowBitMask).eq(0).And(\n",
        "    qa.bitwiseAnd(cloudsBitMask).eq(0))\n",
        "  return image.updateMask(mask).select(bands).divide(10000)\n",
        "\n",
        "def getl8 (dlist):\n",
        "  #extract dates\n",
        "  dat = ee.Date(dlist)\n",
        "  dat2 = dat.advance(dstep,'day')\n",
        "  dat_str = dat2.format()\n",
        "\n",
        "  #summarize l8 between dates\n",
        "  imageCol_gaps = ee.ImageCollection('LANDSAT/LC08/C01/T1_SR')\\\n",
        "  .filterBounds(labels)\\\n",
        "  .filterDate(dat, dat.advance(dstep,'day'))\\\n",
        "  .map(addNDVI)\\\n",
        "  .map(maskL8sr)\\\n",
        "  .median()\\\n",
        "  .set('system:time_start', dat_str)\n",
        "       \n",
        "  return imageCol_gaps\n",
        "\n",
        "ilist = dates.map(getl8)\n",
        "imageCol_gaps = ee.ImageCollection(ilist)\n",
        "\n"
      ],
      "execution_count": 0,
      "outputs": []
    },
    {
      "cell_type": "code",
      "metadata": {
        "id": "8gy54U-5vxNi",
        "colab_type": "code",
        "colab": {}
      },
      "source": [
        "#fill non null value in series\n",
        "first_im = imageCol_gaps\\\n",
        "  .reduce(ee.Reducer.firstNonNull())\\\n",
        "  .rename(bands)\\\n",
        "  .set({'system:index': 'first'})\n",
        "first = ee.List([first_im])\n",
        "\n",
        "#fill gaps then drop first image\n",
        "imageCol = ee.ImageCollection(ee.List(imageCol_gaps.iterate(gap_fill, first)))\\\n",
        "  .filter(ee.Filter.neq('system:index', 'first'))\n",
        "\n",
        "#flatten each band\n",
        "imageCol_all = imageCol\\\n",
        "  .toArrayPerBand()\n",
        "\n",
        "tsLength = imageCol.size().getInfo()\n",
        "image = imageCol_all"
      ],
      "execution_count": 0,
      "outputs": []
    },
    {
      "cell_type": "markdown",
      "metadata": {
        "id": "UEeyPf3zSPct",
        "colab_type": "text"
      },
      "source": [
        "## sample pixel values at labeled points. "
      ]
    },
    {
      "cell_type": "code",
      "metadata": {
        "id": "iOedOKyRExHE",
        "colab_type": "code",
        "outputId": "ea76b562-242a-444f-e31d-7ca3f2acf23e",
        "colab": {
          "base_uri": "https://localhost:8080/",
          "height": 1000
        }
      },
      "source": [
        "# Sample the image at the points and add a random column.\n",
        "sample = image.sampleRegions(\n",
        "  collection=labels, properties=[label], scale=30).randomColumn()\n",
        "\n",
        "# Partition the sample approximately 70-30.\n",
        "training = sample.filter(ee.Filter.lt('random', 0.7))\n",
        "testing = sample.filter(ee.Filter.gte('random', 0.7))\n",
        "\n",
        "from pprint import pprint\n",
        "\n",
        "# Print the first couple points to verify.\n",
        "pprint({'training': training.first().getInfo()})\n",
        "pprint({'testing': testing.first().getInfo()})"
      ],
      "execution_count": 9,
      "outputs": [
        {
          "output_type": "stream",
          "text": [
            "{'training': {'geometry': None,\n",
            "              'id': '00000000000000000003_0',\n",
            "              'properties': {'B2': [0.06350000202655792,\n",
            "                                    0.06350000202655792,\n",
            "                                    0.06350000202655792,\n",
            "                                    0.06350000202655792,\n",
            "                                    0.06350000202655792,\n",
            "                                    0.06350000202655792,\n",
            "                                    0.06350000202655792,\n",
            "                                    0.09510000050067902,\n",
            "                                    0.10300000011920929,\n",
            "                                    0.10300000011920929,\n",
            "                                    0.11100000143051147,\n",
            "                                    0.11100000143051147,\n",
            "                                    0.08760000020265579,\n",
            "                                    0.08269999921321869,\n",
            "                                    0.08269999921321869,\n",
            "                                    0.08749999850988388,\n",
            "                                    0.08749999850988388,\n",
            "                                    0.07880000025033951,\n",
            "                                    0.07880000025033951,\n",
            "                                    0.07479999959468842,\n",
            "                                    0.07479999959468842,\n",
            "                                    0.06780000030994415,\n",
            "                                    0.06780000030994415],\n",
            "                             'B3': [0.08550000190734863,\n",
            "                                    0.08550000190734863,\n",
            "                                    0.08550000190734863,\n",
            "                                    0.08550000190734863,\n",
            "                                    0.08550000190734863,\n",
            "                                    0.08550000190734863,\n",
            "                                    0.08550000190734863,\n",
            "                                    0.11699999868869781,\n",
            "                                    0.13079999387264252,\n",
            "                                    0.13079999387264252,\n",
            "                                    0.13099999725818634,\n",
            "                                    0.13099999725818634,\n",
            "                                    0.09809999912977219,\n",
            "                                    0.10260000079870224,\n",
            "                                    0.10260000079870224,\n",
            "                                    0.10180000215768814,\n",
            "                                    0.10180000215768814,\n",
            "                                    0.08590000122785568,\n",
            "                                    0.08590000122785568,\n",
            "                                    0.09059999883174896,\n",
            "                                    0.09059999883174896,\n",
            "                                    0.07989999651908875,\n",
            "                                    0.07989999651908875],\n",
            "                             'B4': [0.08739999681711197,\n",
            "                                    0.08739999681711197,\n",
            "                                    0.08739999681711197,\n",
            "                                    0.08739999681711197,\n",
            "                                    0.08739999681711197,\n",
            "                                    0.08739999681711197,\n",
            "                                    0.08739999681711197,\n",
            "                                    0.12120000272989273,\n",
            "                                    0.1370999962091446,\n",
            "                                    0.1370999962091446,\n",
            "                                    0.1445000022649765,\n",
            "                                    0.1445000022649765,\n",
            "                                    0.10679999738931656,\n",
            "                                    0.11100000143051147,\n",
            "                                    0.11100000143051147,\n",
            "                                    0.10440000146627426,\n",
            "                                    0.10440000146627426,\n",
            "                                    0.09350000321865082,\n",
            "                                    0.09350000321865082,\n",
            "                                    0.09910000115633011,\n",
            "                                    0.09910000115633011,\n",
            "                                    0.07829999923706055,\n",
            "                                    0.07829999923706055],\n",
            "                             'B5': [0.10000000149011612,\n",
            "                                    0.10000000149011612,\n",
            "                                    0.10000000149011612,\n",
            "                                    0.10000000149011612,\n",
            "                                    0.10000000149011612,\n",
            "                                    0.10000000149011612,\n",
            "                                    0.10000000149011612,\n",
            "                                    0.14920000731945038,\n",
            "                                    0.16820000112056732,\n",
            "                                    0.16820000112056732,\n",
            "                                    0.1687999963760376,\n",
            "                                    0.1687999963760376,\n",
            "                                    0.12470000237226486,\n",
            "                                    0.13249999284744263,\n",
            "                                    0.13249999284744263,\n",
            "                                    0.12460000067949295,\n",
            "                                    0.12460000067949295,\n",
            "                                    0.11190000176429749,\n",
            "                                    0.11190000176429749,\n",
            "                                    0.11710000038146973,\n",
            "                                    0.11710000038146973,\n",
            "                                    0.08380000293254852,\n",
            "                                    0.08380000293254852],\n",
            "                             'B6': [0.12759999930858612,\n",
            "                                    0.12759999930858612,\n",
            "                                    0.12759999930858612,\n",
            "                                    0.12759999930858612,\n",
            "                                    0.12759999930858612,\n",
            "                                    0.12759999930858612,\n",
            "                                    0.12759999930858612,\n",
            "                                    0.1639000028371811,\n",
            "                                    0.1826000064611435,\n",
            "                                    0.1826000064611435,\n",
            "                                    0.17820000648498535,\n",
            "                                    0.17820000648498535,\n",
            "                                    0.12330000102519989,\n",
            "                                    0.13510000705718994,\n",
            "                                    0.13510000705718994,\n",
            "                                    0.11810000240802765,\n",
            "                                    0.11810000240802765,\n",
            "                                    0.11150000244379044,\n",
            "                                    0.11150000244379044,\n",
            "                                    0.11309999972581863,\n",
            "                                    0.11309999972581863,\n",
            "                                    0.10930000245571136,\n",
            "                                    0.10930000245571136],\n",
            "                             'B7': [0.10660000145435333,\n",
            "                                    0.10660000145435333,\n",
            "                                    0.10660000145435333,\n",
            "                                    0.10660000145435333,\n",
            "                                    0.10660000145435333,\n",
            "                                    0.10660000145435333,\n",
            "                                    0.10660000145435333,\n",
            "                                    0.14010000228881836,\n",
            "                                    0.16369999945163727,\n",
            "                                    0.16369999945163727,\n",
            "                                    0.15520000457763672,\n",
            "                                    0.15520000457763672,\n",
            "                                    0.1137000024318695,\n",
            "                                    0.12080000340938568,\n",
            "                                    0.12080000340938568,\n",
            "                                    0.10400000214576721,\n",
            "                                    0.10400000214576721,\n",
            "                                    0.09780000150203705,\n",
            "                                    0.09780000150203705,\n",
            "                                    0.10010000318288803,\n",
            "                                    0.10010000318288803,\n",
            "                                    0.09369999915361404,\n",
            "                                    0.09369999915361404],\n",
            "                             'landcover': 0,\n",
            "                             'nd': [0.6723585724830627,\n",
            "                                    0.6723585724830627,\n",
            "                                    0.6723585724830627,\n",
            "                                    0.6723585724830627,\n",
            "                                    0.6723585724830627,\n",
            "                                    0.6723585724830627,\n",
            "                                    0.6723585724830627,\n",
            "                                    1.0355029106140137,\n",
            "                                    1.0186702013015747,\n",
            "                                    1.0186702013015747,\n",
            "                                    0.7756144404411316,\n",
            "                                    0.7756144404411316,\n",
            "                                    0.7732181549072266,\n",
            "                                    0.882956862449646,\n",
            "                                    0.882956862449646,\n",
            "                                    0.8820960521697998,\n",
            "                                    0.8820960521697998,\n",
            "                                    0.8958130478858948,\n",
            "                                    0.8958130478858948,\n",
            "                                    0.8325624465942383,\n",
            "                                    0.8325624465942383,\n",
            "                                    0.33929672837257385,\n",
            "                                    0.33929672837257385],\n",
            "                             'random': 0.37329835741722583},\n",
            "              'type': 'Feature'}}\n",
            "{'testing': {'geometry': None,\n",
            "             'id': '00000000000000000007_0',\n",
            "             'properties': {'B2': [0.09000000357627869,\n",
            "                                   0.09000000357627869,\n",
            "                                   0.09000000357627869,\n",
            "                                   0.09000000357627869,\n",
            "                                   0.09000000357627869,\n",
            "                                   0.09000000357627869,\n",
            "                                   0.09000000357627869,\n",
            "                                   0.09319999814033508,\n",
            "                                   0.09470000118017197,\n",
            "                                   0.09470000118017197,\n",
            "                                   0.09399999678134918,\n",
            "                                   0.09399999678134918,\n",
            "                                   0.08990000188350677,\n",
            "                                   0.09149999916553497,\n",
            "                                   0.09470000118017197,\n",
            "                                   0.08820000290870667,\n",
            "                                   0.08820000290870667,\n",
            "                                   0.0877000018954277,\n",
            "                                   0.0877000018954277,\n",
            "                                   0.08250000327825546,\n",
            "                                   0.08250000327825546,\n",
            "                                   0.07689999788999557,\n",
            "                                   0.07689999788999557],\n",
            "                            'B3': [0.10719999670982361,\n",
            "                                   0.10719999670982361,\n",
            "                                   0.10719999670982361,\n",
            "                                   0.10719999670982361,\n",
            "                                   0.10719999670982361,\n",
            "                                   0.10719999670982361,\n",
            "                                   0.10719999670982361,\n",
            "                                   0.11649999767541885,\n",
            "                                   0.12470000237226486,\n",
            "                                   0.12470000237226486,\n",
            "                                   0.11190000176429749,\n",
            "                                   0.11190000176429749,\n",
            "                                   0.11389999836683273,\n",
            "                                   0.12470000237226486,\n",
            "                                   0.11680000275373459,\n",
            "                                   0.11100000143051147,\n",
            "                                   0.11100000143051147,\n",
            "                                   0.09960000216960907,\n",
            "                                   0.09960000216960907,\n",
            "                                   0.09510000050067902,\n",
            "                                   0.09510000050067902,\n",
            "                                   0.10029999911785126,\n",
            "                                   0.10029999911785126],\n",
            "                            'B4': [0.11620000004768372,\n",
            "                                   0.11620000004768372,\n",
            "                                   0.11620000004768372,\n",
            "                                   0.11620000004768372,\n",
            "                                   0.11620000004768372,\n",
            "                                   0.11620000004768372,\n",
            "                                   0.11620000004768372,\n",
            "                                   0.125900000333786,\n",
            "                                   0.13420000672340393,\n",
            "                                   0.13420000672340393,\n",
            "                                   0.12020000070333481,\n",
            "                                   0.12020000070333481,\n",
            "                                   0.12449999898672104,\n",
            "                                   0.13259999454021454,\n",
            "                                   0.1273999959230423,\n",
            "                                   0.11890000104904175,\n",
            "                                   0.11890000104904175,\n",
            "                                   0.1062999963760376,\n",
            "                                   0.1062999963760376,\n",
            "                                   0.10199999809265137,\n",
            "                                   0.10199999809265137,\n",
            "                                   0.1128000020980835,\n",
            "                                   0.1128000020980835],\n",
            "                            'B5': [0.13979999721050262,\n",
            "                                   0.13979999721050262,\n",
            "                                   0.13979999721050262,\n",
            "                                   0.13979999721050262,\n",
            "                                   0.13979999721050262,\n",
            "                                   0.13979999721050262,\n",
            "                                   0.13979999721050262,\n",
            "                                   0.1451999992132187,\n",
            "                                   0.15649999678134918,\n",
            "                                   0.15649999678134918,\n",
            "                                   0.14270000159740448,\n",
            "                                   0.14270000159740448,\n",
            "                                   0.14959999918937683,\n",
            "                                   0.15160000324249268,\n",
            "                                   0.1517000049352646,\n",
            "                                   0.14090000092983246,\n",
            "                                   0.14090000092983246,\n",
            "                                   0.12359999865293503,\n",
            "                                   0.12359999865293503,\n",
            "                                   0.12120000272989273,\n",
            "                                   0.12120000272989273,\n",
            "                                   0.13429999351501465,\n",
            "                                   0.13429999351501465],\n",
            "                            'B6': [0.13590000569820404,\n",
            "                                   0.13590000569820404,\n",
            "                                   0.13590000569820404,\n",
            "                                   0.13590000569820404,\n",
            "                                   0.13590000569820404,\n",
            "                                   0.13590000569820404,\n",
            "                                   0.13590000569820404,\n",
            "                                   0.1589999943971634,\n",
            "                                   0.16509999334812164,\n",
            "                                   0.16509999334812164,\n",
            "                                   0.15929999947547913,\n",
            "                                   0.15929999947547913,\n",
            "                                   0.15649999678134918,\n",
            "                                   0.16369999945163727,\n",
            "                                   0.15289999544620514,\n",
            "                                   0.1444000005722046,\n",
            "                                   0.1444000005722046,\n",
            "                                   0.14079999923706055,\n",
            "                                   0.14079999923706055,\n",
            "                                   0.1339000016450882,\n",
            "                                   0.1339000016450882,\n",
            "                                   0.14149999618530273,\n",
            "                                   0.14149999618530273],\n",
            "                            'B7': [0.11630000174045563,\n",
            "                                   0.11630000174045563,\n",
            "                                   0.11630000174045563,\n",
            "                                   0.11630000174045563,\n",
            "                                   0.11630000174045563,\n",
            "                                   0.11630000174045563,\n",
            "                                   0.11630000174045563,\n",
            "                                   0.1428000032901764,\n",
            "                                   0.14810000360012054,\n",
            "                                   0.14810000360012054,\n",
            "                                   0.14229999482631683,\n",
            "                                   0.14229999482631683,\n",
            "                                   0.1429000049829483,\n",
            "                                   0.14730000495910645,\n",
            "                                   0.1378999948501587,\n",
            "                                   0.12960000336170197,\n",
            "                                   0.12960000336170197,\n",
            "                                   0.12449999898672104,\n",
            "                                   0.12449999898672104,\n",
            "                                   0.11940000206232071,\n",
            "                                   0.11940000206232071,\n",
            "                                   0.13189999759197235,\n",
            "                                   0.13189999759197235],\n",
            "                            'landcover': 0,\n",
            "                            'nd': [0.921875,\n",
            "                                   0.921875,\n",
            "                                   0.921875,\n",
            "                                   0.921875,\n",
            "                                   0.921875,\n",
            "                                   0.921875,\n",
            "                                   0.921875,\n",
            "                                   0.7119144201278687,\n",
            "                                   0.7671138644218445,\n",
            "                                   0.7671138644218445,\n",
            "                                   0.8558387160301208,\n",
            "                                   0.8558387160301208,\n",
            "                                   0.9157242178916931,\n",
            "                                   0.66854327917099,\n",
            "                                   0.8706556558609009,\n",
            "                                   0.846805214881897,\n",
            "                                   0.846805214881897,\n",
            "                                   0.7525010704994202,\n",
            "                                   0.7525010704994202,\n",
            "                                   0.8602150678634644,\n",
            "                                   0.8602150678634644,\n",
            "                                   0.8700931072235107,\n",
            "                                   0.8700931072235107],\n",
            "                            'random': 0.8251229057395886},\n",
            "             'type': 'Feature'}}\n"
          ],
          "name": "stdout"
        }
      ]
    },
    {
      "cell_type": "markdown",
      "metadata": {
        "id": "uNc7a2nRR4MI",
        "colab_type": "text"
      },
      "source": [
        "## Export the training and testing data\n"
      ]
    },
    {
      "cell_type": "code",
      "metadata": {
        "id": "Pb-aPvQc0Xvp",
        "colab_type": "code",
        "outputId": "2cab46a0-7669-4916-d7ed-2f4931d6393e",
        "colab": {
          "base_uri": "https://localhost:8080/",
          "height": 34
        }
      },
      "source": [
        "# REPLACE WITH YOUR BUCKET!\n",
        "outputBucket = 'ee-tf-example'\n",
        "\n",
        "# Make sure the bucket exists.\n",
        "print('Found Cloud Storage bucket.' if tf.io.gfile.exists('gs://' + outputBucket) \n",
        "    else 'Output Cloud Storage bucket does not exist.')"
      ],
      "execution_count": 10,
      "outputs": [
        {
          "output_type": "stream",
          "text": [
            "Found Cloud Storage bucket.\n"
          ],
          "name": "stdout"
        }
      ]
    },
    {
      "cell_type": "code",
      "metadata": {
        "id": "TfVNQzg8R6Wy",
        "colab_type": "code",
        "colab": {}
      },
      "source": [
        "# Names for output files.\n",
        "trainFilePrefix = 'Training_demo_cnn'\n",
        "testFilePrefix = 'Testing_demo_cnn'\n",
        "\n",
        "# This is list of all the properties we want to export.\n",
        "featureNames = list(bands)\n",
        "featureNames.append(label)\n"
      ],
      "execution_count": 0,
      "outputs": []
    },
    {
      "cell_type": "code",
      "metadata": {
        "id": "gmMX_N_8JROQ",
        "colab_type": "code",
        "colab": {}
      },
      "source": [
        "# Create the tasks.\n",
        "trainingTask = ee.batch.Export.table.toCloudStorage(\n",
        "  collection=training,\n",
        "  description='Training Export',\n",
        "  fileNamePrefix=trainFilePrefix,\n",
        "  bucket=outputBucket,\n",
        "  fileFormat='TFRecord',\n",
        "  selectors=featureNames)\n",
        "\n",
        "testingTask = ee.batch.Export.table.toCloudStorage(\n",
        "  collection=testing,\n",
        "  description='Testing Export',\n",
        "  fileNamePrefix=testFilePrefix,\n",
        "  bucket=outputBucket,\n",
        "  fileFormat='TFRecord',\n",
        "  selectors=featureNames)"
      ],
      "execution_count": 0,
      "outputs": []
    },
    {
      "cell_type": "code",
      "metadata": {
        "id": "QF4WGIekaS2s",
        "colab_type": "code",
        "colab": {}
      },
      "source": [
        "# Start the tasks.\n",
        "trainingTask.start()\n",
        "testingTask.start()"
      ],
      "execution_count": 0,
      "outputs": []
    },
    {
      "cell_type": "code",
      "metadata": {
        "id": "oEWvS5ekcEq0",
        "colab_type": "code",
        "colab": {}
      },
      "source": [
        "# Print all tasks.\n",
        "print(ee.batch.Task.list())\n",
        "\n",
        "# Poll the training task until it's done.\n",
        "import time \n",
        "while trainingTask.active():\n",
        "  print('Polling for task (id: {}).'.format(trainingTask.id))\n",
        "  time.sleep(30)\n",
        "print('Done with training export.')"
      ],
      "execution_count": 0,
      "outputs": []
    },
    {
      "cell_type": "markdown",
      "metadata": {
        "id": "43-c0JNFI_m6",
        "colab_type": "text"
      },
      "source": [
        "### Check existence of the exported files\n"
      ]
    },
    {
      "cell_type": "code",
      "metadata": {
        "id": "YDZfNl6yc0Kj",
        "colab_type": "code",
        "colab": {}
      },
      "source": [
        "fileNameSuffix = '.tfrecord.gz'\n",
        "trainFilePath = 'gs://' + outputBucket + '/' + trainFilePrefix + fileNameSuffix\n",
        "testFilePath = 'gs://' + outputBucket + '/' + testFilePrefix + fileNameSuffix\n",
        "\n",
        "print('Found training file.' if tf.io.gfile.exists(trainFilePath) \n",
        "    else 'No training file found.')\n",
        "print('Found testing file.' if tf.io.gfile.exists(testFilePath) \n",
        "    else 'No testing file found.')"
      ],
      "execution_count": 0,
      "outputs": []
    },
    {
      "cell_type": "markdown",
      "metadata": {
        "id": "NA8QA8oQVo8V",
        "colab_type": "text"
      },
      "source": [
        "## Export the imagery as tfrecord"
      ]
    },
    {
      "cell_type": "code",
      "metadata": {
        "id": "xll3pYpImmx5",
        "colab_type": "code",
        "colab": {}
      },
      "source": [
        "#define bands and dim\n",
        "patchdim = 256\n",
        "fmap = dict(zip(list(bands), np.repeat(tsLength,len(bands)).tolist()))"
      ],
      "execution_count": 0,
      "outputs": []
    },
    {
      "cell_type": "code",
      "metadata": {
        "id": "tVNhJYacVpEw",
        "colab_type": "code",
        "colab": {}
      },
      "source": [
        "imageFilePrefix = 'Image_pixel_demo_2020'\n",
        "# Specify patch and file dimensions.\n",
        "imageExportFormatOptions = {\n",
        "  'patchDimensions': [patchdim, patchdim],\n",
        "  'maxFileSize': 1048576000,\n",
        "  'compressed': True,\n",
        "  'tensorDepths': fmap\n",
        "}\n",
        "\n",
        "# Export imagery in this region.\n",
        "exportRegion =  ee.Geometry.Polygon(\\\n",
        "        [[[-122.49712825452804, 37.72807005959367],\\\n",
        "          [-122.49712825452804, 37.65471739519173],\\\n",
        "          [-122.41953731214522, 37.65471739519173],\\\n",
        "          [-122.41953731214522, 37.72807005959367]]])\n",
        "#exportRegion = ee.Geometry.Rectangle([-122.7, 37.3, -121.8, 38.00])\n",
        "\n",
        "# Setup the task\n",
        "imageTask = ee.batch.Export.image.toCloudStorage(\n",
        "  image=image,\n",
        "  description='Image Export',\n",
        "  fileNamePrefix=imageFilePrefix,\n",
        "  bucket=outputBucket,\n",
        "  scale=30,\n",
        "  fileFormat='TFRecord',\n",
        "  region=exportRegion.toGeoJSON()['coordinates'],\n",
        "  formatOptions=imageExportFormatOptions,\n",
        ")"
      ],
      "execution_count": 0,
      "outputs": []
    },
    {
      "cell_type": "code",
      "metadata": {
        "id": "6SweCkHDaNE3",
        "colab_type": "code",
        "colab": {}
      },
      "source": [
        "# Start the task.\n",
        "imageTask.start()"
      ],
      "execution_count": 0,
      "outputs": []
    },
    {
      "cell_type": "code",
      "metadata": {
        "id": "clOOCbA0jdXy",
        "colab_type": "code",
        "colab": {}
      },
      "source": [
        "imageTask.status()"
      ],
      "execution_count": 0,
      "outputs": []
    },
    {
      "cell_type": "markdown",
      "metadata": {
        "id": "JC8C53MRTG_E",
        "colab_type": "text"
      },
      "source": [
        "### Monitor task progress\n",
        "\n",
        "Before making predictions, we need the image export to finish, so block until it does.  This might take a few minutes..."
      ]
    },
    {
      "cell_type": "code",
      "metadata": {
        "id": "rKZeZswloP11",
        "colab_type": "code",
        "colab": {}
      },
      "source": [
        "while imageTask.active():\n",
        "  print('Polling for task (id: {}).'.format(imageTask.id))\n",
        "  time.sleep(30)\n",
        "print('Done with image export.')"
      ],
      "execution_count": 0,
      "outputs": []
    },
    {
      "cell_type": "markdown",
      "metadata": {
        "id": "9vWdH_wlZCEk",
        "colab_type": "text"
      },
      "source": [
        "# Data preparation and pre-processing"
      ]
    },
    {
      "cell_type": "code",
      "metadata": {
        "id": "T3PKyDQW8Vpx",
        "colab_type": "code",
        "cellView": "code",
        "colab": {}
      },
      "source": [
        "# Create a dataset from the TFRecord file in Cloud Storage.\n",
        "trainDataset = tf.data.TFRecordDataset(trainFilePath, compression_type='GZIP')\n",
        "# Print the first record to check.\n",
        "print(iter(trainDataset).next())"
      ],
      "execution_count": 0,
      "outputs": []
    },
    {
      "cell_type": "code",
      "metadata": {
        "id": "-6JVQV5HKHMZ",
        "colab_type": "code",
        "cellView": "code",
        "colab": {}
      },
      "source": [
        "# List of fixed-length features, all of which are float32.\n",
        "columns = [\n",
        "  tf.io.FixedLenFeature(shape=[tsLength], dtype=tf.float32),\n",
        "  tf.io.FixedLenFeature(shape=[tsLength], dtype=tf.float32),\n",
        "  tf.io.FixedLenFeature(shape=[tsLength], dtype=tf.float32),\n",
        "  tf.io.FixedLenFeature(shape=[tsLength], dtype=tf.float32),\n",
        "  tf.io.FixedLenFeature(shape=[tsLength], dtype=tf.float32),\n",
        "  tf.io.FixedLenFeature(shape=[tsLength], dtype=tf.float32),\n",
        "  tf.io.FixedLenFeature(shape=[tsLength], dtype=tf.float32),\n",
        "  tf.io.FixedLenFeature(shape=[1], dtype=tf.float32)\n",
        "]\n",
        "\n",
        "# Dictionary with names as keys, features as values.\n",
        "featuresDict = dict(zip(featureNames, columns))\n",
        "\n",
        "pprint(featuresDict)"
      ],
      "execution_count": 0,
      "outputs": []
    },
    {
      "cell_type": "markdown",
      "metadata": {
        "id": "QNfaUPbcjuCO",
        "colab_type": "text"
      },
      "source": [
        "## Parse the dataset\n"
      ]
    },
    {
      "cell_type": "code",
      "metadata": {
        "id": "x2Q0g3fBj2kD",
        "colab_type": "code",
        "cellView": "code",
        "colab": {}
      },
      "source": [
        "def parse_tfrecord(example_proto):\n",
        "  \"\"\"The parsing function.\n",
        "\n",
        "  Read a serialized example into the structure defined by featuresDict.\n",
        "\n",
        "  Args:\n",
        "    example_proto: a serialized Example.\n",
        "  \n",
        "  Returns: \n",
        "    A tuple of the predictors dictionary and the label, cast to an `int32`.\n",
        "  \"\"\"\n",
        "  parsed_features = tf.io.parse_single_example(example_proto, featuresDict)\n",
        "  labels = parsed_features.pop(label)\n",
        "  return parsed_features, tf.cast(labels, tf.int32)\n",
        "\n",
        "# Map the function over the dataset.\n",
        "parsedDataset = trainDataset.map(parse_tfrecord, num_parallel_calls=5)\n",
        "\n",
        "# How many classes there are in the model.\n",
        "nClasses = 3\n",
        "\n",
        "inputDataset = parsedDataset\n"
      ],
      "execution_count": 0,
      "outputs": []
    },
    {
      "cell_type": "code",
      "metadata": {
        "id": "DQY8r3crWXlu",
        "colab_type": "code",
        "colab": {}
      },
      "source": [
        "\n",
        "# Keras requires inputs as a tuple.  Note that the inputs must be in the\n",
        "# right shape.  Also note that to use the categorical_crossentropy loss,\n",
        "# the label needs to be turned into a one-hot vector.\n",
        "def toTuple(dictionary, label):\n",
        "  return tf.transpose(list(dictionary.values())), tf.one_hot(indices=label, depth=nClasses)\n",
        "\n",
        "# Repeat the input dataset as many times as necessary in batches of 10.\n",
        "inputDataset = inputDataset.map(toTuple).repeat().batch(5)\n",
        "#inputDataset = inputDataset.map(toTuple).shuffle(buffer_size=20, seed=42).batch(10)\n"
      ],
      "execution_count": 0,
      "outputs": []
    },
    {
      "cell_type": "markdown",
      "metadata": {
        "id": "t9pWa54oG-xl",
        "colab_type": "text"
      },
      "source": [
        "## Create the Keras model\n",
        " architecture from https://github.com/charlotte-pel/igarss2019-dl4sits"
      ]
    },
    {
      "cell_type": "code",
      "metadata": {
        "id": "ux5Hplh0bC8Q",
        "colab_type": "code",
        "outputId": "69ff1d8b-db82-4fff-f671-62c05c6acff7",
        "colab": {
          "base_uri": "https://localhost:8080/",
          "height": 221
        }
      },
      "source": [
        "from tensorflow.keras.models import Sequential\n",
        "from tensorflow.keras.layers import Dense, Conv1D, Flatten, Dropout, BatchNormalization\n",
        "\n",
        "\n",
        "# Define the layers in the model.\n",
        "model = Sequential([\n",
        "  Conv1D(filters=32, kernel_size=5, padding = 'same', activation='relu',input_shape=(tsLength,len(bands))),\n",
        " # BatchNormalization(),\n",
        " # Dropout(0.2),\n",
        "  Conv1D(filters=32, kernel_size=5, padding = 'same', activation='relu'),\n",
        " # BatchNormalization(),\n",
        " # Dropout(0.2),\n",
        "  Flatten(),\n",
        "  Dense(256, activation='relu'),\n",
        "#  BatchNormalization(),\n",
        "  Dropout(0.2),\n",
        "  Dense(nClasses, activation='softmax')\n",
        "])\n",
        "\n",
        "# Compile the model with the specified loss function.\n",
        "model.compile(optimizer='Adam',\n",
        "              loss='categorical_crossentropy',\n",
        "              metrics=['accuracy'])\n",
        "\n",
        "# Fit the model to the training data.\n",
        "# Don't forget to specify `steps_per_epoch` when calling `fit` on a dataset.\n",
        "model.fit(x=inputDataset, epochs=5,steps_per_epoch=100)\n"
      ],
      "execution_count": 25,
      "outputs": [
        {
          "output_type": "stream",
          "text": [
            "Train for 100 steps\n",
            "Epoch 1/5\n",
            "100/100 [==============================] - 10s 99ms/step - loss: 0.5882 - accuracy: 0.7224\n",
            "Epoch 2/5\n",
            "100/100 [==============================] - 2s 24ms/step - loss: 0.0289 - accuracy: 0.9232\n",
            "Epoch 3/5\n",
            "100/100 [==============================] - 3s 27ms/step - loss: 0.0197 - accuracy: 0.9188\n",
            "Epoch 4/5\n",
            "100/100 [==============================] - 2s 23ms/step - loss: 0.0020 - accuracy: 0.9312\n",
            "Epoch 5/5\n",
            "100/100 [==============================] - 3s 26ms/step - loss: 7.0134e-04 - accuracy: 0.9280\n"
          ],
          "name": "stdout"
        },
        {
          "output_type": "execute_result",
          "data": {
            "text/plain": [
              "<tensorflow.python.keras.callbacks.History at 0x7fc310191a90>"
            ]
          },
          "metadata": {
            "tags": []
          },
          "execution_count": 25
        }
      ]
    },
    {
      "cell_type": "markdown",
      "metadata": {
        "id": "Pa4ex_4eKiyb",
        "colab_type": "text"
      },
      "source": [
        "## Check model accuracy on the test set\n"
      ]
    },
    {
      "cell_type": "code",
      "metadata": {
        "id": "tE6d7FsrMa1p",
        "colab_type": "code",
        "cellView": "code",
        "colab": {}
      },
      "source": [
        "testDataset = (\n",
        "  tf.data.TFRecordDataset(testFilePath, compression_type='GZIP')\n",
        "    .map(parse_tfrecord, num_parallel_calls=5)\n",
        "    .map(toTuple)\n",
        "    .batch(1)\n",
        ")\n",
        "\n",
        "model.evaluate(testDataset, steps=100)"
      ],
      "execution_count": 0,
      "outputs": []
    },
    {
      "cell_type": "markdown",
      "metadata": {
        "id": "nhHrnv3VR0DU",
        "colab_type": "text"
      },
      "source": [
        "# Use the trained model to classify an image from Earth Engine\n"
      ]
    },
    {
      "cell_type": "markdown",
      "metadata": {
        "id": "nmTayDitZgQ5",
        "colab_type": "text"
      },
      "source": [
        "## Find the image files and JSON mixer file in Cloud Storage\n"
      ]
    },
    {
      "cell_type": "code",
      "metadata": {
        "id": "oUv9WMpcVp8E",
        "colab_type": "code",
        "outputId": "ac95b639-a24f-42ca-d6e3-c97f1a32d3dc",
        "colab": {
          "base_uri": "https://localhost:8080/",
          "height": 34
        }
      },
      "source": [
        "# Get a list of all the files in the output bucket.\n",
        "filesList = !gsutil ls 'gs://'{outputBucket}\n",
        "# Get only the files generated by the image export.\n",
        "exportFilesList = [s for s in filesList if imageFilePrefix in s]\n",
        "\n",
        "# Get the list of image files and the JSON mixer file.\n",
        "imageFilesList = []\n",
        "jsonFile = None\n",
        "for f in exportFilesList:\n",
        "  if f.endswith('.tfrecord.gz'):\n",
        "    imageFilesList.append(f)\n",
        "  elif f.endswith('.json'):\n",
        "    jsonFile = f\n",
        "\n",
        "# Make sure the files are in the right order.\n",
        "print(imageFilesList.sort())\n"
      ],
      "execution_count": 26,
      "outputs": [
        {
          "output_type": "stream",
          "text": [
            "None\n"
          ],
          "name": "stdout"
        }
      ]
    },
    {
      "cell_type": "code",
      "metadata": {
        "id": "SZZwfMdjg-Q5",
        "colab_type": "code",
        "outputId": "172679e7-df32-4471-d8f7-bb31fb6fa35c",
        "colab": {
          "base_uri": "https://localhost:8080/",
          "height": 51
        }
      },
      "source": [
        "\n",
        "pprint(imageFilesList)\n",
        "print(jsonFile)"
      ],
      "execution_count": 27,
      "outputs": [
        {
          "output_type": "stream",
          "text": [
            "['gs://ee-tf-example/Image_pixel_demo_2020.tfrecord.gz']\n",
            "gs://ee-tf-example/Image_pixel_demo_2020.json\n"
          ],
          "name": "stdout"
        }
      ]
    },
    {
      "cell_type": "markdown",
      "metadata": {
        "id": "RcjYG9fk53xL",
        "colab_type": "text"
      },
      "source": [
        "## Read the JSON mixer file\n",
        "\n",
        "The mixer contains metadata and georeferencing information for the exported patches, each of which is in a different file.  Read the mixer to get some information needed for prediction."
      ]
    },
    {
      "cell_type": "code",
      "metadata": {
        "id": "Gn7Dr0AAd93_",
        "colab_type": "code",
        "colab": {}
      },
      "source": [
        "import json\n",
        "\n",
        "# Load the contents of the mixer file to a JSON object.\n",
        "jsonText = !gsutil cat {jsonFile}\n",
        "# Get a single string w/ newlines from the IPython.utils.text.SList\n",
        "mixer = json.loads(jsonText.nlstr)\n",
        "pprint(mixer)"
      ],
      "execution_count": 0,
      "outputs": []
    },
    {
      "cell_type": "markdown",
      "metadata": {
        "id": "6xyzyPPJwpVI",
        "colab_type": "text"
      },
      "source": [
        "## Read the image files into a dataset\n"
      ]
    },
    {
      "cell_type": "code",
      "metadata": {
        "id": "tn8Kj3VfwpiJ",
        "colab_type": "code",
        "cellView": "code",
        "colab": {}
      },
      "source": [
        "# Get relevant info from the JSON mixer file.\n",
        "PATCH_WIDTH = mixer['patchDimensions'][0]\n",
        "PATCH_HEIGHT = mixer['patchDimensions'][1]\n",
        "PATCHES = mixer['totalPatches']\n",
        "PATCH_DIMENSIONS_FLAT = [tsLength,PATCH_WIDTH * PATCH_HEIGHT]\n",
        "\n",
        "# Note that the tensors are in the shape of a patch, one patch for each band.\n",
        "imageColumns = [\n",
        "  tf.io.FixedLenFeature(shape=PATCH_DIMENSIONS_FLAT, dtype=tf.float32) \n",
        "    for k in bands\n",
        "]\n",
        "\n",
        "# Parsing dictionary.\n",
        "imageFeaturesDict = dict(zip(bands, imageColumns))\n",
        "\n",
        "# Note that you can make one dataset from many files by specifying a list.\n",
        "imageDataset = tf.data.TFRecordDataset(imageFilesList, compression_type='GZIP')\n"
      ],
      "execution_count": 0,
      "outputs": []
    },
    {
      "cell_type": "code",
      "metadata": {
        "id": "T1ncDG2bbT2f",
        "colab_type": "code",
        "outputId": "1d53fda7-b741-4532-ebd2-7922f2b14c0b",
        "colab": {
          "base_uri": "https://localhost:8080/",
          "height": 136
        }
      },
      "source": [
        "imageFeaturesDict"
      ],
      "execution_count": 31,
      "outputs": [
        {
          "output_type": "execute_result",
          "data": {
            "text/plain": [
              "{'B2': FixedLenFeature(shape=[23, 65536], dtype=tf.float32, default_value=None),\n",
              " 'B3': FixedLenFeature(shape=[23, 65536], dtype=tf.float32, default_value=None),\n",
              " 'B4': FixedLenFeature(shape=[23, 65536], dtype=tf.float32, default_value=None),\n",
              " 'B5': FixedLenFeature(shape=[23, 65536], dtype=tf.float32, default_value=None),\n",
              " 'B6': FixedLenFeature(shape=[23, 65536], dtype=tf.float32, default_value=None),\n",
              " 'B7': FixedLenFeature(shape=[23, 65536], dtype=tf.float32, default_value=None),\n",
              " 'nd': FixedLenFeature(shape=[23, 65536], dtype=tf.float32, default_value=None)}"
            ]
          },
          "metadata": {
            "tags": []
          },
          "execution_count": 31
        }
      ]
    },
    {
      "cell_type": "code",
      "metadata": {
        "id": "8_WljdLgpBh3",
        "colab_type": "code",
        "colab": {}
      },
      "source": [
        "# Parsing function.\n",
        "def parse_image(example_proto):\n",
        "  return tf.io.parse_single_example(example_proto, imageFeaturesDict)\n",
        "\n",
        "# Parse the data into tensors, one long tensor per patch.\n",
        "imageDataset = imageDataset.map(parse_image, num_parallel_calls=5)\n"
      ],
      "execution_count": 0,
      "outputs": []
    },
    {
      "cell_type": "code",
      "metadata": {
        "id": "fpqJg78g9-SU",
        "colab_type": "code",
        "colab": {}
      },
      "source": [
        "# transpose function.\n",
        "def tp_image(tf_Data):\n",
        "  for k, v in tf_Data.items():\n",
        "    tf_Data[k] = tf.transpose(v)\n",
        "  return tf_Data\n",
        "\n",
        "# tranpose the input tensors\n",
        "imageDataset = imageDataset.map(tp_image)\n"
      ],
      "execution_count": 0,
      "outputs": []
    },
    {
      "cell_type": "code",
      "metadata": {
        "id": "7BNPzVNipBrS",
        "colab_type": "code",
        "colab": {}
      },
      "source": [
        "# Break our long tensors into many little ones.\n",
        "imageDataset = imageDataset.flat_map(\n",
        "  lambda features: tf.data.Dataset.from_tensor_slices(features)\n",
        ")\n"
      ],
      "execution_count": 0,
      "outputs": []
    },
    {
      "cell_type": "code",
      "metadata": {
        "id": "yHFSkwZ5pOa0",
        "colab_type": "code",
        "colab": {}
      },
      "source": [
        "# Turn the dictionary in each record into a tuple without a label.\n",
        "imageDataset = imageDataset.map(\n",
        "  lambda dataDict: (tf.transpose(list(dataDict.values())), )\n",
        ")"
      ],
      "execution_count": 0,
      "outputs": []
    },
    {
      "cell_type": "code",
      "metadata": {
        "id": "rz6S96OMpB3D",
        "colab_type": "code",
        "colab": {}
      },
      "source": [
        "# Turn each patch into a batch.\n",
        "imageDataset = imageDataset.batch(PATCH_WIDTH * PATCH_HEIGHT)"
      ],
      "execution_count": 0,
      "outputs": []
    },
    {
      "cell_type": "markdown",
      "metadata": {
        "id": "_2sfRemRRDkV",
        "colab_type": "text"
      },
      "source": [
        "## Generate predictions for the image pixels\n",
        "\n",
        "To get predictions in each pixel, run the image dataset through the trained model using `model.predict()`.  Print the first prediction to see that the output is a list of the three class probabilities for each pixel.  Running all predictions might take a while."
      ]
    },
    {
      "cell_type": "code",
      "metadata": {
        "id": "8VGhmiP_REBP",
        "colab_type": "code",
        "colab": {}
      },
      "source": [
        "# Run prediction in batches, with as many steps as there are patches.\n",
        "predictions = model.predict(imageDataset, steps=1, verbose=1)\n",
        "\n",
        "# Note that the predictions come as a numpy array.  Check the first one.\n",
        "print(predictions[0])"
      ],
      "execution_count": 0,
      "outputs": []
    },
    {
      "cell_type": "markdown",
      "metadata": {
        "id": "bPU2VlPOikAy",
        "colab_type": "text"
      },
      "source": [
        "## Write the predictions to a TFRecord file\n"
      ]
    },
    {
      "cell_type": "code",
      "metadata": {
        "id": "AkorbsEHepzJ",
        "colab_type": "code",
        "colab": {}
      },
      "source": [
        "outputImageFile = 'gs://' + outputBucket + '/Classified_pixel_demo_2020.TFRecord'\n",
        "print('Writing to file ' + outputImageFile)"
      ],
      "execution_count": 0,
      "outputs": []
    },
    {
      "cell_type": "code",
      "metadata": {
        "id": "kATMknHc0qeR",
        "colab_type": "code",
        "cellView": "code",
        "colab": {}
      },
      "source": [
        "# Instantiate the writer.\n",
        "writer = tf.io.TFRecordWriter(outputImageFile)\n",
        "\n",
        "# Every patch-worth of predictions we'll dump an example into the output\n",
        "# file with a single feature that holds our predictions. Since our predictions\n",
        "# are already in the order of the exported data, the patches we create here\n",
        "# will also be in the right order.\n",
        "patch = [[], [], [], []]\n",
        "curPatch = 1\n",
        "for prediction in predictions:\n",
        "  patch[0].append(tf.argmax(prediction))\n",
        "  patch[1].append(prediction[0])\n",
        "  patch[2].append(prediction[1])\n",
        "  patch[3].append(prediction[2])\n",
        "  # Once we've seen a patches-worth of class_ids...\n",
        "  if (len(patch[0]) == PATCH_WIDTH * PATCH_HEIGHT):\n",
        "    print('Done with patch ' + str(curPatch) + ' of ' + str(PATCHES) + '...')\n",
        "    # Create an example\n",
        "    example = tf.train.Example(\n",
        "      features=tf.train.Features(\n",
        "        feature={\n",
        "          'prediction': tf.train.Feature(\n",
        "              int64_list=tf.train.Int64List(\n",
        "                  value=patch[0])),\n",
        "          'bareProb': tf.train.Feature(\n",
        "              float_list=tf.train.FloatList(\n",
        "                  value=patch[1])),\n",
        "          'vegProb': tf.train.Feature(\n",
        "              float_list=tf.train.FloatList(\n",
        "                  value=patch[2])),\n",
        "          'waterProb': tf.train.Feature(\n",
        "              float_list=tf.train.FloatList(\n",
        "                  value=patch[3])),\n",
        "        }\n",
        "      )\n",
        "    )\n",
        "    # Write the example to the file and clear our patch array so it's ready for\n",
        "    # another batch of class ids\n",
        "    writer.write(example.SerializeToString())\n",
        "    patch = [[], [], [], []]\n",
        "    curPatch += 1\n",
        "\n",
        "writer.close()"
      ],
      "execution_count": 0,
      "outputs": []
    },
    {
      "cell_type": "markdown",
      "metadata": {
        "id": "1K_1hKs0aBdA",
        "colab_type": "text"
      },
      "source": [
        "# Upload the classifications to an Earth Engine asset"
      ]
    },
    {
      "cell_type": "markdown",
      "metadata": {
        "id": "M6sNZXWOSa82",
        "colab_type": "text"
      },
      "source": [
        "## Verify the existence of the predictions file"
      ]
    },
    {
      "cell_type": "code",
      "metadata": {
        "id": "6ZVWDPefUCgA",
        "colab_type": "code",
        "colab": {}
      },
      "source": [
        "!gsutil ls -l {outputImageFile}"
      ],
      "execution_count": 0,
      "outputs": []
    },
    {
      "cell_type": "markdown",
      "metadata": {
        "id": "2ZyCo297Clcx",
        "colab_type": "text"
      },
      "source": [
        "## Upload the classified image to Earth Engine\n"
      ]
    },
    {
      "cell_type": "code",
      "metadata": {
        "id": "NXulMNl9lTDv",
        "colab_type": "code",
        "cellView": "code",
        "colab": {}
      },
      "source": [
        "# REPLACE WITH YOUR USERNAME:\n",
        "USER_NAME = 'glennwithtwons'\n",
        "outputAssetID = 'users/' + USER_NAME + '/Classified_pixel_demo_2020'\n",
        "print('Writing to ' + outputAssetID)"
      ],
      "execution_count": 0,
      "outputs": []
    },
    {
      "cell_type": "code",
      "metadata": {
        "id": "V64tcVxsO5h6",
        "colab_type": "code",
        "colab": {}
      },
      "source": [
        "# Start the upload.\n",
        "!earthengine upload image --asset_id={outputAssetID} {outputImageFile} {jsonFile}"
      ],
      "execution_count": 0,
      "outputs": []
    },
    {
      "cell_type": "code",
      "metadata": {
        "id": "_vB-gwGhl_3C",
        "colab_type": "code",
        "cellView": "code",
        "colab": {}
      },
      "source": [
        "ee.batch.Task.list()"
      ],
      "execution_count": 0,
      "outputs": []
    },
    {
      "cell_type": "markdown",
      "metadata": {
        "id": "vvXvy9GDhM-p",
        "colab_type": "text"
      },
      "source": [
        "## View the ingested asset\n",
        "\n",
        "Display the vector of class probabilities as an RGB image with colors corresponding to the probability of bare, vegetation, water in a pixel.  Also display the winning class using the same color palette."
      ]
    },
    {
      "cell_type": "code",
      "metadata": {
        "id": "kEkVxIyJiFd4",
        "colab_type": "code",
        "colab": {}
      },
      "source": [
        "predictionsImage = ee.Image(outputAssetID)\n",
        "\n",
        "predictionVis = {\n",
        "  'bands': 'prediction',\n",
        "  'min': 0,\n",
        "  'max': 2,\n",
        "  'palette': ['red', 'green', 'blue']\n",
        "}\n",
        "probabilityVis = {'bands': ['bareProb', 'vegProb', 'waterProb']}\n",
        "\n",
        "predictionMapid = predictionsImage.getMapId(predictionVis)\n",
        "probabilityMapid = predictionsImage.getMapId(probabilityVis)\n",
        "\n",
        "map = folium.Map(location=[38., -122.5])\n",
        "folium.TileLayer(\n",
        "  tiles=predictionMapid['tile_fetcher'].url_format,\n",
        "  attr='Map Data &copy; <a href=\"https://earthengine.google.com/\">Google Earth Engine</a>',\n",
        "  overlay=True,\n",
        "  name='prediction',\n",
        ").add_to(map)\n",
        "folium.TileLayer(\n",
        "  tiles=probabilityMapid['tile_fetcher'].url_format,\n",
        "  attr='Map Data &copy; <a href=\"https://earthengine.google.com/\">Google Earth Engine</a>',\n",
        "  overlay=True,\n",
        "  name='probability',\n",
        ").add_to(map)\n",
        "map.add_child(folium.LayerControl())\n",
        "map"
      ],
      "execution_count": 0,
      "outputs": []
    }
  ]
}
